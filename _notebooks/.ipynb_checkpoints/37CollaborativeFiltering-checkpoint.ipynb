{
 "cells": [
  {
   "cell_type": "markdown",
   "id": "aad2c7a1",
   "metadata": {},
   "source": [
    "---\n",
    "layout: post\n",
    "title:  \"Collaborative Filtering\"\n",
    "date:   2023-05-30 10:14:54 +0700\n",
    "categories: MachineLearning\n",
    "---\n",
    "\n",
    "# Intro\n",
    "\n",
    "Collaborative filtering is a technique that is mainly used in recommendation system to suggest user's preferences by collecting data from a similar group of users. It assumes that if those people have similar preference and decisions in the past, so will they in the near future. Use case: Amazon develops item-to-item collaborative filtering in their recommendation system.\n",
    "\n",
    "# Memory based\n",
    "\n",
    "The memory based technique is to find users similar to the current user in the database and calculate the new rating based in the ratings of similar users found.\n",
    "\n",
    "## Euclidean distance\n",
    "\n",
    "## Cosine distance\n",
    "Based on the angle.\n",
    "## Centered cosine distance\n",
    "Factor out the average ratings.\n",
    "\n",
    "## Cosine similarity\n",
    "\n",
    "\n",
    "Choose a list of top 5-10 most similar users, take average of their ratings. $$ R_U = \\frac{\\sum_{u=1}^n R_u}{n} $$\n",
    "This is to take all the top similar users equally.\n",
    "Or weigh them accordingly: $$ R_U = \\frac{\\sum_{u=1}^n R_u * W_u}{\\sum_{u=1}^n W_u} $$"
   ]
  },
  {
   "cell_type": "code",
   "execution_count": null,
   "id": "60ef3eeb",
   "metadata": {},
   "outputs": [],
   "source": []
  }
 ],
 "metadata": {
  "kernelspec": {
   "display_name": "Python 3 (ipykernel)",
   "language": "python",
   "name": "python3"
  },
  "language_info": {
   "codemirror_mode": {
    "name": "ipython",
    "version": 3
   },
   "file_extension": ".py",
   "mimetype": "text/x-python",
   "name": "python",
   "nbconvert_exporter": "python",
   "pygments_lexer": "ipython3",
   "version": "3.9.13"
  }
 },
 "nbformat": 4,
 "nbformat_minor": 5
}
