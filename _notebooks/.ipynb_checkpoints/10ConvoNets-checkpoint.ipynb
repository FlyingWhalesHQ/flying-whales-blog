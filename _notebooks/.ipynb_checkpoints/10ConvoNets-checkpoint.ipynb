{
 "cells": [
  {
   "cell_type": "markdown",
   "id": "b2ff9f0c",
   "metadata": {},
   "source": [
    "---\n",
    "layout: post\n",
    "title:  \"Modern CNNs\"\n",
    "date:   2023-03-09 11:14:54 +0700\n",
    "categories: jekyll update\n",
    "---\n",
    "\n",
    "# Introduction\n",
    "\n",
    "# LeNet\n",
    "\n",
    "# AlexNet\n",
    "\n",
    "# GoogleNet\n",
    "\n",
    "# ResNet\n"
   ]
  }
 ],
 "metadata": {
  "kernelspec": {
   "display_name": "Python 3 (ipykernel)",
   "language": "python",
   "name": "python3"
  },
  "language_info": {
   "codemirror_mode": {
    "name": "ipython",
    "version": 3
   },
   "file_extension": ".py",
   "mimetype": "text/x-python",
   "name": "python",
   "nbconvert_exporter": "python",
   "pygments_lexer": "ipython3",
   "version": "3.9.13"
  }
 },
 "nbformat": 4,
 "nbformat_minor": 5
}
