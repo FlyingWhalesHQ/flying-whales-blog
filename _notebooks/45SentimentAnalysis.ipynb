{
 "cells": [
  {
   "cell_type": "markdown",
   "id": "3fc0d3e2",
   "metadata": {},
   "source": [
    "---\n",
    "layout: post\n",
    "title:  \"Sentiment Analysis\"\n",
    "date:   2023-06-09 10:14:54 +0700\n",
    "categories: MachineLearning\n",
    "---\n",
    "\n",
    "# Introduction\n",
    "\n",
    "Sentiment analysis, also known as opinion mining, is a heavily researched topic in Natural Language Processing (NLP). It helps to determine the emotion, attitude, and sentiment expressed in a text. After having understood the opinion of the people, the company can make adjustment to the product or make some informed business decision. This practice is being widely applied across disciplines since social media is having more and more impact in the society. The ability to extract insights from social data is crucial in business steps such as educating the market, customer feedback, and surveying at scale.\n",
    "\n",
    "Broadly speaking, we can categorize sentiment analysis into categories: fine-grained sentiment analysis, in which we extent beyond binary classifications of positive and negative sentiments into more specific list of emotions such as happy, angry, sad, etc. Aspect-based sentiment analysis recognizes specific facets of the product people are referring to, for example, the battery of an iPhone. Intent analysis determines the intent behind a message (a purchase intent for example).\n",
    "\n",
    "There are also multiple ways to perform sentiment analysis, including lexicon-based methods that attribute emotions to words, or rule based techniques, or machine learning approaches (such as Naive Bayes, SVM, and deep neural networks like RNN, LTSM, and transformer), and hybrid methods. These methods can vary greatly and it is beneficial to have an overview of the field.\n",
    "\n",
    "# Fine-grained sentiment analysis\n",
    "\n",
    "Instead of just determining whether sentiments are positive, negative or neutral, fine-grained sentiment analysis makes the scale from very positive, positive, neutral, negative to very negative. Apart from the emotions, there is also subjectivity which measures how far from the fact those evaluations are. For example, a text is objective (fact-based) if it has subjectivity score of 0. And it is considered subjective (opinion-based) if its score is 1. "
   ]
  },
  {
   "cell_type": "code",
   "execution_count": 2,
   "id": "575f783c",
   "metadata": {},
   "outputs": [
    {
     "name": "stdout",
     "output_type": "stream",
     "text": [
      "Collecting textblob\n",
      "  Downloading textblob-0.17.1-py2.py3-none-any.whl (636 kB)\n",
      "\u001b[2K     \u001b[90m━━━━━━━━━━━━━━━━━━━━━━━━━━━━━━━━━━━━━━━\u001b[0m \u001b[32m636.8/636.8 kB\u001b[0m \u001b[31m2.3 MB/s\u001b[0m eta \u001b[36m0:00:00\u001b[0ma \u001b[36m0:00:01\u001b[0m\n",
      "\u001b[?25hRequirement already satisfied: nltk>=3.1 in /Users/nguyenlinhchi/opt/anaconda3/lib/python3.9/site-packages (from textblob) (3.7)\n",
      "Requirement already satisfied: joblib in /Users/nguyenlinhchi/.local/lib/python3.9/site-packages (from nltk>=3.1->textblob) (1.2.0)\n",
      "Requirement already satisfied: click in /Users/nguyenlinhchi/opt/anaconda3/lib/python3.9/site-packages (from nltk>=3.1->textblob) (8.0.4)\n",
      "Requirement already satisfied: regex>=2021.8.3 in /Users/nguyenlinhchi/opt/anaconda3/lib/python3.9/site-packages (from nltk>=3.1->textblob) (2022.7.9)\n",
      "Requirement already satisfied: tqdm in /Users/nguyenlinhchi/opt/anaconda3/lib/python3.9/site-packages (from nltk>=3.1->textblob) (4.64.1)\n",
      "Installing collected packages: textblob\n",
      "Successfully installed textblob-0.17.1\n"
     ]
    }
   ],
   "source": [
    "!pip install textblob"
   ]
  },
  {
   "cell_type": "code",
   "execution_count": 21,
   "id": "ad5646db",
   "metadata": {},
   "outputs": [
    {
     "name": "stdout",
     "output_type": "stream",
     "text": [
      "Very Positive\n"
     ]
    }
   ],
   "source": [
    "from textblob import TextBlob\n",
    "\n",
    "# Suppose we have fetched a review from the IMDb dataset\n",
    "review = \"I absolutely loved this movie. The plot was fascinating and the characters were well-developed.\"\n",
    "# Create a TextBlob object\n",
    "blob = TextBlob(review)\n",
    "\n",
    "# This will return a value between -1 and 1, where -1 is negative, 1 is positive, and 0 is neutral.\n",
    "polarity = blob.sentiment.polarity\n",
    "\n",
    "if polarity > 0:\n",
    "    if polarity > 0.5:\n",
    "        sentiment = \"Very Positive\"\n",
    "    else:\n",
    "        sentiment = \"Positive\"\n",
    "elif polarity < 0:\n",
    "    if polarity < -0.5:\n",
    "        sentiment = \"Very Negative\"\n",
    "    else:\n",
    "        sentiment = \"Negative\"\n",
    "else:\n",
    "    sentiment = \"Neutral\"\n",
    "\n",
    "print(sentiment)\n"
   ]
  },
  {
   "cell_type": "markdown",
   "id": "45b8aaae",
   "metadata": {},
   "source": [
    "|comment|sentiment|subjectivity|\n",
    "|---|---|---|\n",
    "|Coronet has the best lines of all day cruisers|Very Positive|0.3|\n",
    "|I do not dislike cabin cruisers.|Neutral|0.0|\n",
    "|Bertram has a deep V hull and runs easily through seas.|Positive|0.6|\n",
    "|Pastel-colored 1980s day cruisers from Florida are ugly.|Very Negative|1.0|\n",
    "|I dislike old cabin cruisers.|Positive|0.2|\n",
    "|Disliking watercraft is not really my thing.|Negative|0.2|\n",
    "|Sometimes I really hate RIBs.|Very Negative|0.9|\n",
    "|I'd really truly love going out in this weather! |Positive|0.4|\n",
    "|Chris Craft is better looking than Limestone.|Positive|0.5|\n",
    "|I love my mobile but would not recommend it to any of my colleagues.|Positive|0.6|\n",
    "|You should see their decadent dessert menu.|Neutral|0.0|\n",
    "|The movie is surprising with plenty of unsettling plot twists.|Positive|0.6|\n",
    "|Chris Craft is better looking than Limestone, but Limestone projects seaworthiness and reliability.|Positive|0.5|"
   ]
  },
  {
   "cell_type": "code",
   "execution_count": null,
   "id": "994de370",
   "metadata": {},
   "outputs": [],
   "source": []
  }
 ],
 "metadata": {
  "kernelspec": {
   "display_name": "Python 3 (ipykernel)",
   "language": "python",
   "name": "python3"
  },
  "language_info": {
   "codemirror_mode": {
    "name": "ipython",
    "version": 3
   },
   "file_extension": ".py",
   "mimetype": "text/x-python",
   "name": "python",
   "nbconvert_exporter": "python",
   "pygments_lexer": "ipython3",
   "version": "3.9.13"
  }
 },
 "nbformat": 4,
 "nbformat_minor": 5
}
