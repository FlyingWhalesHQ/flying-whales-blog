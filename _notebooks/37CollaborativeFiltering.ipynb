{
 "cells": [
  {
   "cell_type": "markdown",
   "id": "9b4731fa",
   "metadata": {},
   "source": [
    "---\n",
    "layout: post\n",
    "title:  \"Collaborative Filtering\"\n",
    "date:   2023-05-30 10:14:54 +0700\n",
    "categories: MachineLearning\n",
    "---\n",
    "\n",
    "# Introduction\n",
    "\n",
    "Collaborative filtering is a technique that is mainly used in recommendation system to suggest user's preferences by collecting data from a similar group of users. It assumes that if those people have similar preference and decisions in the past, so will they in the near future. So the prediction can be used as recommendation for the user on the products. Use case: Amazon develops item-to-item collaborative filtering in their recommendation system.\n",
    "\n",
    "# Memory based\n",
    "\n",
    "The memory based technique is to find users or items similar to the current user in the database and calculate the new rating based in the ratings of similar users or items found.\n",
    "\n",
    "## User based\n",
    "\n",
    "Let's start with a user-item rating matrix. We have the colums to be users and rows to be items. For large companies such as Netflix, Amazon, etc, the matrix can be quite large with millions of users and items. And the preference of a user over items can be obtained implicitly such as when a user watch a movie, it is assumed that she likes it. Or when she visits the item multiple times and for long, it can also be graded that she likes it. One issue with this utility matrix is that the company might not be able to obtain all ratings to fill in this matrix since each user might rate a few items only. So the matrix is quite sparse. There are several options to fill in those missing values. First is to place 0 for all the missing values. This is not a good choice since 0 means the lowest rating possible. A better option is to replace N/A with the average. For example, if the lowest is 0 and highest possible is 5, we can use 2.5. However, this has some issue with different kind of users. For example, an easy reviewer might rate 5 stars for a likeable move and for movies she doesn't like, she rate 3. If we replace her N/A with 2.5, all those movies mean bad movies for her. But for a difficult reviewer, she might only give 3 stars for movies she really likes and 1 star for movies she doesn't like. If we replace all her N/A with 2.5, we are assuming that she likes all the rest. A more reasonale option is to use a different average which is the average of all the ratings she has done. This alleviates the problem of easy and difficult user mentioned above. After filling those numbers in, we can normalize the matrix by substrating each user's rating column by their own average. This effectively set all the missing values to 0. Then 0 would be the neutral value and a positive value would mean that that user likes that movie. Likewise, a negative value means that the user doesn't like that movie. Doing that would make the matrix being stored more efficiently. And since sparse matrices can fit better into memory, it is also better for when we do the calculation.\n",
    "\n",
    "The next step is to calculate similarity. We can use Euclidean distance or cosine similarity method.\n",
    "\n",
    "## Euclidean distance\n",
    "\n",
    "The Euclidean distance between two points in the Euclidean space is the length of the line segment between the two. It is also called the Euclidean norm of the two vector difference:\n",
    "\n",
    "$$ d(x,y) = \\mid\\mid p - q \\mid\\mid = \\sqrt{(p_1 - q_1)^2 + (p_2 - q_2)^2} $$\n",
    "\n",
    "<img src=\"https://d138zd1ktt9iqe.cloudfront.net/media/seo_landing_files/formula-of-euclidean-distance-1624039148.png\">\n",
    "\n",
    "Image: Euclidean distance between two datapoints\n"
   ]
  },
  {
   "cell_type": "code",
   "execution_count": 1,
   "id": "8892092b",
   "metadata": {},
   "outputs": [
    {
     "name": "stdout",
     "output_type": "stream",
     "text": [
      "3.3166247903554\n"
     ]
    }
   ],
   "source": [
    "import numpy as np\n",
    "\n",
    "p1 = np.array([0,1,5,3,2,4])\n",
    "p2 = np.array([1,3,5,4,1,2])\n",
    "\n",
    "distance = np.linalg.norm(p1 - p2)\n",
    "print(distance)"
   ]
  },
  {
   "cell_type": "markdown",
   "id": "b3b94b05",
   "metadata": {},
   "source": [
    "\n",
    "## Cosine similarity\n",
    "Cosine similarity method is to calculate the cosine of the angle between two vectors formed by the two datapoints: $$ cos(u_1, u_2) = \\frac{u_1^T u_2}{\\mid \\mid u_1 \\mid\\mid_2 . \\mid\\mid u_2\\mid\\mid_2} $$. With $$ u_1, u_2 $$ being normalized vectors. The value of the similarity would conveniently be between -1 and 1. A value of 1 means perfectly similar (the angle between these two vectors is 0). A value of -1 means perfectly dissimilar (the two vectors are on opposite directions). This means that when the behavior of the two users are opposite, they are not similar. \n",
    "\n",
    "<img src=\"https://media.geeksforgeeks.org/wp-content/uploads/20200911171455/UntitledDiagram2.png\">\n",
    "\n",
    "Image: the angle between two vector formed by two datapoints\n",
    "\n"
   ]
  },
  {
   "cell_type": "code",
   "execution_count": 3,
   "id": "d2bbbf9c",
   "metadata": {},
   "outputs": [
    {
     "name": "stdout",
     "output_type": "stream",
     "text": [
      "0.900937462695559\n"
     ]
    }
   ],
   "source": [
    "import numpy as np\n",
    "\n",
    "def cosine_similarity(A, B):\n",
    "    dot_product = np.dot(A, B)\n",
    "    norm_a = np.linalg.norm(A)\n",
    "    norm_b = np.linalg.norm(B)\n",
    "    return dot_product / (norm_a * norm_b)\n",
    "\n",
    "# example vectors\n",
    "p1 = np.array([0,1,5,3,2,4])\n",
    "p2 = np.array([1,3,5,4,1,2])\n",
    "\n",
    "print(cosine_similarity(p1, p2))  "
   ]
  },
  {
   "cell_type": "markdown",
   "id": "3a81e495",
   "metadata": {},
   "source": [
    "\n",
    "Other similarity indices that can be used are Pearson correlation coefficient, Jaccard similarity, Spearman rank correlation and mean squared difference. The Pearson correlation coefficient is the linear relation between the two samples. It is the covariance of the two variables divided by the multiplication of the two standard deviations: $$ \\rho_{X,Y} = \\frac{cov(X,Y)}{\\sigma_X \\sigma_Y} $$. Spearman rank correlation is the Pearson correlation equation but for rank variables. Jaccard similarity is when we count the number of items in the intersection set of the two sets then divide it by the number of items in the union set of the two sets: $$ J(X,Y) = \\frac{\\mid A \\cap B \\mid}{\\mid A \\cup B \\mid} $$. Mean squared difference is a popular measure for the distance between points.\n"
   ]
  },
  {
   "cell_type": "code",
   "execution_count": 4,
   "id": "ac8229cd",
   "metadata": {},
   "outputs": [
    {
     "name": "stdout",
     "output_type": "stream",
     "text": [
      "1.0\n"
     ]
    }
   ],
   "source": [
    "def jaccard_similarity(setA, setB):\n",
    "    intersection = len(setA & setB)\n",
    "    union = len(setA | setB)\n",
    "    return intersection / union\n",
    "\n",
    "# example sets\n",
    "p1 = np.array([0,1,5,3,2,4])\n",
    "p2 = np.array([1,3,5,4,1,2])\n",
    "\n",
    "print(jaccard_similarity(p1,p2))  "
   ]
  },
  {
   "cell_type": "markdown",
   "id": "6ff42e1b",
   "metadata": {},
   "source": [
    "Notice that the two vectors have the same ratings but in different order. In this case, the jaccard similarity shows the perfect similarity which is not reasonable. If you plan to try this similarity index, please do keep this in mind.\n",
    "\n"
   ]
  },
  {
   "cell_type": "code",
   "execution_count": 5,
   "id": "f72d0ce0",
   "metadata": {},
   "outputs": [
    {
     "name": "stdout",
     "output_type": "stream",
     "text": [
      "Spearman Rank Correlation:  0.6667366910003157\n"
     ]
    }
   ],
   "source": [
    "from scipy.stats import spearmanr\n",
    "\n",
    "# Example data\n",
    "p1 = np.array([0,1,5,3,2,4])\n",
    "p2 = np.array([1,3,5,4,1,2])\n",
    "\n",
    "correlation, p_value = spearmanr(p1, p2)\n",
    "\n",
    "print(\"Spearman Rank Correlation: \", correlation)\n"
   ]
  },
  {
   "cell_type": "markdown",
   "id": "3899bafa",
   "metadata": {},
   "source": [
    "\n",
    "After establishing a way to calculate similarity, we then can move on to predict the rating. To calculate the rating prediction of user U for item I: we choose a list of top 5-10 most similar users who already rated I, then we take average of those ratings: $$ R_U = \\frac{\\sum_{u=1}^n R_u}{n} $$. This equation takes all the top similar users equally. Another choice is that we can weigh them accordingly: $$ R_U = \\frac{\\sum_{u=1}^n R_u * W_u}{\\sum_{u=1}^n W_u} $$. The weights can be the similarity index for each user. Overall, this method is like asking your friends' suggestion when you want to see a new movie. We know that our friends have similar taste to us and so we can trust them. Their recommendations would be a reliable source of information.\n",
    "\n",
    "## Item based\n",
    "\n",
    "In the case of user based rating matrix, the matrix is usually sparse since each user only rates a few products. When one user changes rating or rate more, the average rating of that user changes and the normalization needs to be redone, leading to the need to redo the rating matrix as well. An approach that Amazon proposes, is to calculate the similarity among items then we can predict the rating of a new item based on those already rated items of the same user. Usually, the number of items are smaller than the number of users. This makes similarity matrix smaller and easier for calculation. Pick out a list of top 5-10 most similar items to the current one, rated by the user. Take their average or weighted average to indicate its rating. This method is developed by Amazon and can be used when there are more users than items, since it is more stable and faster. It is not very suited for datasets with browsing or entertainment related items.\n",
    "\n",
    "# Model based\n",
    "\n",
    "First to reduce the large but sparse user item matrix by matrix factorization. Matrix factorization is to breaking down a large matrix into a product of smaller ones. A = X * Y. For example a matrix of m users * n items can be factorized into the product of user matrix m * p features and item matrix n * p features. P are called latent features which means they are hidden characteristics of the user and the items.\n",
    "\n",
    "## SVD \n",
    "\n",
    "One of the popular algorithm to factorize matrix into meaningful components is the singular value decomposition algorithm. This method was introduced at length in a previous post on LSD/LSA (laten semantic analysis) for document processing. It is to factorized the utility matrix into a multiplication of user and item matrix: $$ A = U \\Sigma V^T $$\n",
    "\n",
    "where U and V are orthogonal matrices, $$ \\Sigma $$ being the diagonal matrix containing the singular values of A. The singular values in $$ \\Sigma $$ are sorted in decreasing order and the number of non zero singular values indicates the rank of matrix A.\n"
   ]
  },
  {
   "cell_type": "code",
   "execution_count": 32,
   "id": "8995a69f",
   "metadata": {},
   "outputs": [
    {
     "ename": "ValueError",
     "evalue": "shapes (3,2) and (3,) not aligned: 2 (dim 1) != 3 (dim 0)",
     "output_type": "error",
     "traceback": [
      "\u001b[0;31m---------------------------------------------------------------------------\u001b[0m",
      "\u001b[0;31mValueError\u001b[0m                                Traceback (most recent call last)",
      "\u001b[0;32m/var/folders/kf/5_ggvsz93vxdbx_h0tvy66xh0000gn/T/ipykernel_54738/4138503806.py\u001b[0m in \u001b[0;36m<module>\u001b[0;34m\u001b[0m\n\u001b[1;32m     17\u001b[0m \u001b[0;34m\u001b[0m\u001b[0m\n\u001b[1;32m     18\u001b[0m \u001b[0;31m# Now we can predict the missing entries by doing a matrix multiplication of U, S, and Vt\u001b[0m\u001b[0;34m\u001b[0m\u001b[0;34m\u001b[0m\u001b[0m\n\u001b[0;32m---> 19\u001b[0;31m \u001b[0mpredicted_ratings\u001b[0m \u001b[0;34m=\u001b[0m \u001b[0mnp\u001b[0m\u001b[0;34m.\u001b[0m\u001b[0mdot\u001b[0m\u001b[0;34m(\u001b[0m\u001b[0mnp\u001b[0m\u001b[0;34m.\u001b[0m\u001b[0mdot\u001b[0m\u001b[0;34m(\u001b[0m\u001b[0mU\u001b[0m\u001b[0;34m,\u001b[0m \u001b[0mS\u001b[0m\u001b[0;34m)\u001b[0m\u001b[0;34m,\u001b[0m \u001b[0mVT\u001b[0m\u001b[0;34m)\u001b[0m\u001b[0;34m\u001b[0m\u001b[0;34m\u001b[0m\u001b[0m\n\u001b[0m\u001b[1;32m     20\u001b[0m \u001b[0;34m\u001b[0m\u001b[0m\n\u001b[1;32m     21\u001b[0m \u001b[0mprint\u001b[0m\u001b[0;34m(\u001b[0m\u001b[0mpredicted_ratings\u001b[0m\u001b[0;34m)\u001b[0m\u001b[0;34m\u001b[0m\u001b[0;34m\u001b[0m\u001b[0m\n",
      "\u001b[0;32m~/opt/anaconda3/lib/python3.9/site-packages/numpy/core/overrides.py\u001b[0m in \u001b[0;36mdot\u001b[0;34m(*args, **kwargs)\u001b[0m\n",
      "\u001b[0;31mValueError\u001b[0m: shapes (3,2) and (3,) not aligned: 2 (dim 1) != 3 (dim 0)"
     ]
    }
   ],
   "source": [
    "from scipy.sparse.linalg import svds\n",
    "import numpy as np\n",
    "\n",
    "# A simple user-item matrix\n",
    "A = np.array([\n",
    "    [0,1,5,3,2,4],\n",
    "    [1,3,5,4,1,2],\n",
    "    [3,4,2,0,0,1],\n",
    "])\n",
    "A=A.astype(float)\n",
    "\n",
    "# Perform SVD\n",
    "U, s, Vt = svds(A, k=2)  # k is the number of features we want to keep\n",
    "# U, S, VT = np.linalg.svd(A)\n",
    "# Since s is just the values, convert it to a diagonal matrix\n",
    "S = np.diag(S)\n",
    "\n",
    "# Now we can predict the missing entries by doing a matrix multiplication of U, S, and Vt\n",
    "predicted_ratings = np.dot(np.dot(U, S), VT)\n",
    "\n",
    "print(predicted_ratings)\n"
   ]
  },
  {
   "cell_type": "code",
   "execution_count": 29,
   "id": "a314722a",
   "metadata": {},
   "outputs": [
    {
     "data": {
      "text/plain": [
       "(3, 6)"
      ]
     },
     "execution_count": 29,
     "metadata": {},
     "output_type": "execute_result"
    }
   ],
   "source": [
    "A.shape"
   ]
  },
  {
   "cell_type": "code",
   "execution_count": 27,
   "id": "c7806fde",
   "metadata": {},
   "outputs": [
    {
     "data": {
      "text/plain": [
       "array([[10.82519686,  0.        ,  0.        ],\n",
       "       [ 0.        ,  4.53873908,  0.        ],\n",
       "       [ 0.        ,  0.        ,  1.7930311 ]])"
      ]
     },
     "execution_count": 27,
     "metadata": {},
     "output_type": "execute_result"
    }
   ],
   "source": [
    "S"
   ]
  },
  {
   "cell_type": "markdown",
   "id": "12b3cb20",
   "metadata": {},
   "source": [
    "\n",
    "## PCA\n",
    "PCA also decomposes the matrix into smaller matrices (in this case with eigenvectors). PCA algorithm has been introduced in a previous post.\n",
    "\n",
    "## NMF\n",
    "\n",
    "Non negative matrix factorization is a technique that decomposes a non negative matrix into the product of two non negative matrices: $$ V \\approx W * H $$ with the constraint that V,W,and H does not contain any negative elements. The factorization is performed using an iterative optimization algorithm that minimizes the difference between V and the product of W and H: $$ \\mid\\mid V - WH \\mid\\mid^2 = \\sum (V - WH)^2 $$. After having the two smaller matrices, we can predict the missing values using matrix multiplication. \n",
    "\n",
    "# Hybrid\n",
    "\n",
    "A hybrid model is one that makes use of both methods (memory based and model based). This is to leverage the strengths and compensate for weaknesses of both methods. For example, a hybrid model might use the model based method to predict a rating for an item, and then use a memory based method to generate prediction from similar users or items. So that they can compare or combine those predictions in some ways. The hybrid model clearly enjoys the patterns learned by the model based method, at the same time can keep the personalization by the memory method.\n",
    "\n",
    "# Deep learning \n",
    "\n",
    "## Auto encoder\n",
    "\n",
    "An auto encoder would learn the internal structure of a dataset, with hidden features, and then make prediction when new datapoint come in. Auto encoder has been introduced at length in a previous post."
   ]
  },
  {
   "cell_type": "code",
   "execution_count": null,
   "id": "ef39996a",
   "metadata": {},
   "outputs": [],
   "source": []
  }
 ],
 "metadata": {
  "kernelspec": {
   "display_name": "Python 3 (ipykernel)",
   "language": "python",
   "name": "python3"
  },
  "language_info": {
   "codemirror_mode": {
    "name": "ipython",
    "version": 3
   },
   "file_extension": ".py",
   "mimetype": "text/x-python",
   "name": "python",
   "nbconvert_exporter": "python",
   "pygments_lexer": "ipython3",
   "version": "3.9.13"
  }
 },
 "nbformat": 4,
 "nbformat_minor": 5
}
