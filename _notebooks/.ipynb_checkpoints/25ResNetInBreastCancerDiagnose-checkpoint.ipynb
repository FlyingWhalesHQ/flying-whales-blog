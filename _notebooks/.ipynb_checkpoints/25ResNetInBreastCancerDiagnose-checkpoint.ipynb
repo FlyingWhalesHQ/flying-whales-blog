{
 "cells": [
  {
   "cell_type": "markdown",
   "id": "e4143bf9",
   "metadata": {},
   "source": [
    "---\n",
    "layout: post\n",
    "title:  \"ResNet in Breast Cancer Diagnose\"\n",
    "date:   2023-04-17 10:14:54 +0700\n",
    "categories: DeepLearning\n",
    "---\n",
    "\n",
    "# Introduction\n",
    "\n",
    "Let's explore a paper on the application of deep neural network in breast cancer screening: Deep Neural Networks Improve Radiologists' Performance in Breast Cancer Screening. A deep neural net with two stages is trained to learn the global and local information. This strategy allows the model to achieves a human competitive performance and the heatmaps indicating locations of findings. The authors propose a novel variant of a ResNet designed for medical imaging, with balance of depth and width. This allows the processing of large image and maintaining a reasonable amount of memory consumption.\n",
    "\n",
    "# Dataset\n",
    "The dataset includes 230000 digital screening mamography exams, with 1 million images from 141000 patients. Each exam has at least four images, corresponding to the four standard views in screening mammography: R-CC (right craniocaudal), L-CC (left craniocaudal), R-MLO (right mediolateral oblique), L-MLO (left mediolateral oblique). Here are some examples of those images: \n",
    "\n",
    "<img src=\"https://ieeexplore.ieee.org/mediastore_new/IEEE/content/media/42/9055242/8861376/wu1-2945514-small.gif\">\n",
    "\n",
    "The author also relies on diagnose of malignant or benign from bipopsies. There are 5800 exams with at least one biopsy performed within 120 days of the screening mammogram. The biopsies confirm malignant for 985 (8.4%) breasts and benign for 5500 (47.6%) breasts. 234 (2%) breasts have both malignant and benign findings. Example of labelling by a radiologist, with red being malignant and green as benign:\n",
    "\n",
    "<img src=\"https://ieeexplore.ieee.org/mediastore_new/IEEE/content/media/42/9055242/8861376/wu2ab-2945514-small.gif\">\n",
    "\n",
    "# Multi task learning\n",
    "\n",
    "Multi task learning is training a single neural network to do multiple tasks at the same time: to identify / classify multiple labels in one image. For example, for one single image, the algorithm would answer questions such as \"is it a dress? is it jean? does it have green color? does it have red color?\". The output for each task could be 0 or 1 (0 for no and 1 for yes). The total output would be a vector of 4 dimensions, 2 elements for product and 2 elements for colors. For example, a red dress would be [1 0 0 1]. In the paper, for each breast there are two binary labels: the absence/presence of malignant findings  and the absence/presence of benign findings. Since we have left and right breasts, each exam has a total of four binary labels. The predictions are denoted: $$ \\hat{y}_{R,m}, \\hat{y}_{L,m}, \\hat{y}_{R,b}, \\hat{y}_{L,b} $$. In which the prediction of benign findings serves as an auxiliary task to regularize the main task of predicting a malignant finding. Four input images are denoted $$ x_{R-CC}, x_{L-CC}, x_{R-MLO}, x_{L-MLO} $$. Each CC image is cropped at 2677x1942 and each MLO is cropped at 2974 x 1748.\n",
    "\n",
    "# ResNet\n",
    "\n",
    "They have for model architechture: the view wise model that concatenates L-CC and R-CC, and L-MLO and R-MLO. Then it makes prediction for CC and MLO, then average those. The image wise model makes four predictions independently and then averaged. The side wise model concatenate L-CC and L-MLO, then R-CC and R-MLO then predict for left and right breasts. The joint model concatenates all four views and jointly predict malignant and benign findings for both breasts.\n",
    "\n",
    "<img src=\"https://ieeexplore.ieee.org/mediastore_new/IEEE/content/media/42/9055242/8861376/wu5-2945514-small.gif\">\n",
    "\n",
    "All models use ResNet-22 layers"
   ]
  },
  {
   "cell_type": "code",
   "execution_count": null,
   "id": "8f733f17",
   "metadata": {},
   "outputs": [],
   "source": []
  }
 ],
 "metadata": {
  "kernelspec": {
   "display_name": "Python 3 (ipykernel)",
   "language": "python",
   "name": "python3"
  },
  "language_info": {
   "codemirror_mode": {
    "name": "ipython",
    "version": 3
   },
   "file_extension": ".py",
   "mimetype": "text/x-python",
   "name": "python",
   "nbconvert_exporter": "python",
   "pygments_lexer": "ipython3",
   "version": "3.9.13"
  }
 },
 "nbformat": 4,
 "nbformat_minor": 5
}
