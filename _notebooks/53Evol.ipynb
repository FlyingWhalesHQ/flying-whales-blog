{
 "cells": [
  {
   "cell_type": "markdown",
   "id": "ef3571a9",
   "metadata": {},
   "source": [
    "---\n",
    "layout: post\n",
    "title:  \"Evolutionary Algorithms in Machine Learning\"\n",
    "date:   2023-06-21 10:14:54 +0700\n",
    "categories: MachineLearning\n",
    "---\n",
    "\n",
    "# Introduction\n",
    "\n",
    "Evolutionary algorithms are a family of optimization algorithms based on the main idea of biological evolution. The algorithm simulates the phenomenon that biological entities take generation to adapt to the environment. It is like a refining process that will help to converge to a (near-)optimal solution. For machine learning, evolutionary algorithms can be used for feature selection, hyperparameter tuning, and the evolution of a neural network architecture. \n",
    "\n",
    "The typical steps of an evolutionary process includes: initialization, evaluation, selection, crossover, mutation, and replacement. For initialization, an initial population of agents is created, each adopts a candidate solution. A candidate solution is a possible strategy or possible solution for the problem, such as a set of model parameters, a set of selected features, or a network architecture. In the second step of evaluation, we evaluate the fitness of each agent if the population. The fitness score can be calculated depending on the purpose, it could be the performance of the model on a validation set. The selection process then happens in the style of survival of the fittest. Strategies with higher fitness have higher probability of being selected for reproduction. Then in the crossover step, offsprings are created by combining parent strategies, including averaging the weights of two neural networks and combining substructures of different networks. An important step is to add mutation to the selection pool. Some offspring will be chosen randomly to modify their traits. It could involve perturbing the weights of a neural network or randomly modify part of its architecture."
   ]
  }
 ],
 "metadata": {
  "kernelspec": {
   "display_name": "Python 3 (ipykernel)",
   "language": "python",
   "name": "python3"
  },
  "language_info": {
   "codemirror_mode": {
    "name": "ipython",
    "version": 3
   },
   "file_extension": ".py",
   "mimetype": "text/x-python",
   "name": "python",
   "nbconvert_exporter": "python",
   "pygments_lexer": "ipython3",
   "version": "3.9.13"
  }
 },
 "nbformat": 4,
 "nbformat_minor": 5
}
