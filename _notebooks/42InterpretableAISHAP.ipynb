{
 "cells": [
  {
   "cell_type": "markdown",
   "id": "5bd79023",
   "metadata": {},
   "source": [
    "---\n",
    "layout: post\n",
    "title:  \"Interpretable AI: SHAP\"\n",
    "date:   2023-06-06 10:14:54 +0700\n",
    "categories: MachineLearning\n",
    "---\n",
    "# TOC\n",
    "- [Introduction](#)\n",
    "- [Shapley value](#)\n",
    "- [SHAP](#)\n",
    "- [Code example](#)\n",
    "    - [Titanic dataset](#)\n",
    "    - [Home credit default risk dataset](#)\n",
    "    - [Explaining VGG neural net](#)\n",
    "- [Conclusion](#)\n",
    "\n",
    "# Introduction\n",
    "\n",
    "Continue our journey on exploring interpretability of complex models in AI, today we will look at another method to analyze machine learning model named SHAP. SHAP, short for Shapley Additive Explanations, aims to unify approaches before it, such as LIME, DeepLIFT, QII, Layer-wise relevance propagation, and the like. SHAP has a solid theoretical foundation and practical effectiveness since the indicator is based on Shapley value from cooperative game theory. It helps to explain the output of any machine learning model by attributing to each feature the change in the expected model prediction when we condition of that feature, given that these attributions are distributed fairly among the features. In other words, Shapley value is the marginal contribution of a feature into the model's final prediction. So it is an indicator of importance for that feature. In cooperative game theory, players can join into coalition and gets certain payoff from being in coalition. Applied into machine learning, each feature is a player and feature combinations are coalitions. For each feature in interest, we consider all the possible coalitions, then we calculate the contribution of that feature in each of those coalitions, by calculating the resulted difference in output when keeping it in and then leaving it out of the model. Then we take the average of those contributions to have the Shapley value for that feature. The upsides of SHAP are its unified nature and fairness. It can be used for linear models and deep learning models. It avoid certain biases in other techniques.\n",
    "\n",
    "# Shapley value\n",
    "\n",
    "Let's consider a toy example, a model to predict house price based on the area, address, house age, and whether it has a park nearby. The predicted price for a house of 50m2 near the center, newly built and not having a park nearby can be 200,000, 50,000 different from the average prediction by the model. Now we can ask the question, how much each of those features contributed to the prediction? It could be that the area of 50m2 contributed to -10,000 in the 50,000 difference, the addrress contributed to 40,000 in the difference, the house age contributed 20,000 and the having park nearby feature contributed 0. First, to calculate the contribution of the area of the house, we need to list out all the possible coalitions: \n",
    "\n",
    "- No features\n",
    "- Address\n",
    "- Address + House age\n",
    "- Address + Park-nearby\n",
    "- House age + Park-nearby\n",
    "\n",
    "For each of these combinations we compute the predicted apartment price with and without the area feature and take the difference. Then we take the weighted average of those marginal contributions.\n",
    "\n",
    "For image processing tasks, a player can be a super pixel (i.e. a group of pixels that are close and similar to each other).\n",
    "\n",
    "# SHAP\n",
    "\n",
    "Here is the SHAP equation for additive feature attribution methods:\n",
    "\n",
    "$$ g(z) = \\phi_0 + \\sum_{j=1}^M \\phi_j z_j $$\n",
    "\n",
    "where g is the approximation model, M is the maximum coalition size, $$ \\phi_j \\in R $$ is the feature attribution for feature j (i.e. the Shapley value). \n",
    "\n",
    "Addtive feature attribution methods like LIME, DeepLIFT above have very desirable properties: local accuracy, missingness, and consistency. The first property is local accuracy which requires the explanation model to at least match the output of the complex model for the neighbourhood of that point.\n",
    "\n",
    "$$ f(x) = g(x') = \\phi_0 + \\sum_{i=1}^M \\phi_i x_i' $$\n",
    "\n",
    "The explanation model would match the original model when we sample around the point x. The second property is missingness. Missing features in the original input will have no attributed impact. In other words, those features won't receive any attribution from the final outcome. The third property is consistency, when some input's contribution increases or stays the same, that input's attribution will not decrease.\n",
    "\n",
    "# Code example\n",
    "\n",
    "We will consider two datasets: Titanic and the home credit default risk. This is to see SHAP in action in different context so that we can see how the method usually works and what it can highlight and give us better understanding of both the dataset and the model."
   ]
  },
  {
   "cell_type": "code",
   "execution_count": 6,
   "id": "f197fe8d",
   "metadata": {},
   "outputs": [
    {
     "data": {
      "text/html": [
       "<div>\n",
       "<style scoped>\n",
       "    .dataframe tbody tr th:only-of-type {\n",
       "        vertical-align: middle;\n",
       "    }\n",
       "\n",
       "    .dataframe tbody tr th {\n",
       "        vertical-align: top;\n",
       "    }\n",
       "\n",
       "    .dataframe thead th {\n",
       "        text-align: right;\n",
       "    }\n",
       "</style>\n",
       "<table border=\"1\" class=\"dataframe\">\n",
       "  <thead>\n",
       "    <tr style=\"text-align: right;\">\n",
       "      <th></th>\n",
       "      <th>PassengerId</th>\n",
       "      <th>Survived</th>\n",
       "      <th>Pclass</th>\n",
       "      <th>Name</th>\n",
       "      <th>Sex</th>\n",
       "      <th>Age</th>\n",
       "      <th>SibSp</th>\n",
       "      <th>Parch</th>\n",
       "      <th>Ticket</th>\n",
       "      <th>Fare</th>\n",
       "      <th>Cabin</th>\n",
       "      <th>Embarked</th>\n",
       "    </tr>\n",
       "  </thead>\n",
       "  <tbody>\n",
       "    <tr>\n",
       "      <th>0</th>\n",
       "      <td>892</td>\n",
       "      <td>0</td>\n",
       "      <td>3</td>\n",
       "      <td>Kelly, Mr. James</td>\n",
       "      <td>male</td>\n",
       "      <td>34.5</td>\n",
       "      <td>0</td>\n",
       "      <td>0</td>\n",
       "      <td>330911</td>\n",
       "      <td>7.8292</td>\n",
       "      <td>NaN</td>\n",
       "      <td>Q</td>\n",
       "    </tr>\n",
       "    <tr>\n",
       "      <th>1</th>\n",
       "      <td>893</td>\n",
       "      <td>1</td>\n",
       "      <td>3</td>\n",
       "      <td>Wilkes, Mrs. James (Ellen Needs)</td>\n",
       "      <td>female</td>\n",
       "      <td>47.0</td>\n",
       "      <td>1</td>\n",
       "      <td>0</td>\n",
       "      <td>363272</td>\n",
       "      <td>7.0000</td>\n",
       "      <td>NaN</td>\n",
       "      <td>S</td>\n",
       "    </tr>\n",
       "    <tr>\n",
       "      <th>2</th>\n",
       "      <td>894</td>\n",
       "      <td>0</td>\n",
       "      <td>2</td>\n",
       "      <td>Myles, Mr. Thomas Francis</td>\n",
       "      <td>male</td>\n",
       "      <td>62.0</td>\n",
       "      <td>0</td>\n",
       "      <td>0</td>\n",
       "      <td>240276</td>\n",
       "      <td>9.6875</td>\n",
       "      <td>NaN</td>\n",
       "      <td>Q</td>\n",
       "    </tr>\n",
       "    <tr>\n",
       "      <th>3</th>\n",
       "      <td>895</td>\n",
       "      <td>0</td>\n",
       "      <td>3</td>\n",
       "      <td>Wirz, Mr. Albert</td>\n",
       "      <td>male</td>\n",
       "      <td>27.0</td>\n",
       "      <td>0</td>\n",
       "      <td>0</td>\n",
       "      <td>315154</td>\n",
       "      <td>8.6625</td>\n",
       "      <td>NaN</td>\n",
       "      <td>S</td>\n",
       "    </tr>\n",
       "    <tr>\n",
       "      <th>4</th>\n",
       "      <td>896</td>\n",
       "      <td>1</td>\n",
       "      <td>3</td>\n",
       "      <td>Hirvonen, Mrs. Alexander (Helga E Lindqvist)</td>\n",
       "      <td>female</td>\n",
       "      <td>22.0</td>\n",
       "      <td>1</td>\n",
       "      <td>1</td>\n",
       "      <td>3101298</td>\n",
       "      <td>12.2875</td>\n",
       "      <td>NaN</td>\n",
       "      <td>S</td>\n",
       "    </tr>\n",
       "  </tbody>\n",
       "</table>\n",
       "</div>"
      ],
      "text/plain": [
       "   PassengerId  Survived  Pclass  \\\n",
       "0          892         0       3   \n",
       "1          893         1       3   \n",
       "2          894         0       2   \n",
       "3          895         0       3   \n",
       "4          896         1       3   \n",
       "\n",
       "                                           Name     Sex   Age  SibSp  Parch  \\\n",
       "0                              Kelly, Mr. James    male  34.5      0      0   \n",
       "1              Wilkes, Mrs. James (Ellen Needs)  female  47.0      1      0   \n",
       "2                     Myles, Mr. Thomas Francis    male  62.0      0      0   \n",
       "3                              Wirz, Mr. Albert    male  27.0      0      0   \n",
       "4  Hirvonen, Mrs. Alexander (Helga E Lindqvist)  female  22.0      1      1   \n",
       "\n",
       "    Ticket     Fare Cabin Embarked  \n",
       "0   330911   7.8292   NaN        Q  \n",
       "1   363272   7.0000   NaN        S  \n",
       "2   240276   9.6875   NaN        Q  \n",
       "3   315154   8.6625   NaN        S  \n",
       "4  3101298  12.2875   NaN        S  "
      ]
     },
     "execution_count": 6,
     "metadata": {},
     "output_type": "execute_result"
    }
   ],
   "source": [
    "# Importing necessary libraries\n",
    "import pandas as pd\n",
    "import numpy as np\n",
    "# import shap\n",
    "from sklearn.model_selection import train_test_split\n",
    "from sklearn.ensemble import RandomForestClassifier\n",
    "\n",
    "# TITANIC\n",
    "\n",
    "titanic = pd.read_csv('titanic.csv')\n",
    "titanic.head()\n"
   ]
  },
  {
   "cell_type": "code",
   "execution_count": 7,
   "id": "1a4d9408",
   "metadata": {},
   "outputs": [
    {
     "data": {
      "text/plain": [
       "(418, 12)"
      ]
     },
     "execution_count": 7,
     "metadata": {},
     "output_type": "execute_result"
    }
   ],
   "source": [
    "# We have 418 observations\n",
    "titanic.shape"
   ]
  },
  {
   "cell_type": "code",
   "execution_count": 8,
   "id": "99409085",
   "metadata": {},
   "outputs": [
    {
     "data": {
      "text/plain": [
       "327"
      ]
     },
     "execution_count": 8,
     "metadata": {},
     "output_type": "execute_result"
    }
   ],
   "source": [
    "# And Cabin has 327 missing values, so we will drop Cabin\n",
    "titanic['Cabin'].isnull().sum()"
   ]
  },
  {
   "cell_type": "code",
   "execution_count": null,
   "id": "489d1331",
   "metadata": {},
   "outputs": [],
   "source": [
    "# We also drop Name and Ticket \n",
    "titanic = titanic.drop(['Name', 'Ticket', 'Cabin'], axis=1)\n",
    "titanic = titanic.dropna()\n",
    "\n",
    "# Splitting the dataset\n",
    "X = titanic.drop('Survived', axis=1)\n",
    "y = titanic['Survived']\n",
    "X_train, X_test, y_train, y_test = train_test_split(X, y, test_size=0.2, random_state=42)\n",
    "\n",
    "# Fitting the RandomForestClassifier\n",
    "model = RandomForestClassifier(max_depth=6, random_state=0, n_estimators=10)\n",
    "model.fit(X_train, y_train)\n",
    "\n",
    "# Calculating SHAP values\n",
    "explainer = shap.TreeExplainer(model)\n",
    "shap_values = explainer.shap_values(X_test)\n",
    "\n",
    "# Visualization of the first prediction's explanation \n",
    "shap.initjs()\n",
    "shap.force_plot(explainer.expected_value[1], shap_values[1][0,:], X_train.iloc[0,:])\n"
   ]
  },
  {
   "cell_type": "markdown",
   "id": "445244c4",
   "metadata": {},
   "source": [
    "<img width=\"883\" alt=\"Screenshot 2023-06-06 at 15 19 52\" src=\"https://github.com/FlyingWhalesHQ/flying-whales-blog/assets/7457301/6d2061c7-b358-487a-81c3-522c2667c75b\">\n",
    "\n",
    "The SHAP plot shows a detailed analysis for the prediction of the second observation in the test dataset (id = 0). The predicted survival rate is 0.05, with the main driving factor is the gender of the person. Being a male push the rate of survival really hard."
   ]
  },
  {
   "cell_type": "code",
   "execution_count": null,
   "id": "30f40907",
   "metadata": {},
   "outputs": [],
   "source": [
    "from shap import TreeExplainer, Explanation\n",
    "from shap.plots import waterfall\n",
    "sv = explainer(X_test)\n",
    "exp = Explanation(sv.values[:,:,1], \n",
    "                  sv.base_values[:,1], \n",
    "                  data=X_test.values, \n",
    "                  feature_names=X_test.columns)\n",
    "idx = 0\n",
    "waterfall(exp[idx])"
   ]
  },
  {
   "cell_type": "markdown",
   "id": "75f8c685",
   "metadata": {},
   "source": [
    "The waterfall plot gives a closer looks at those feature component. Note that the expected survival rate is 0.342, but for this datapoint the predicted rate is only 0.047. The graph shows that the gender of the person drives down 0.27 his survival rate.\n",
    "\n",
    "<img width=\"832\" alt=\"Screenshot 2023-06-06 at 15 27 22\" src=\"https://github.com/FlyingWhalesHQ/flying-whales-blog/assets/7457301/d4b3926d-320e-47d4-a401-9c897dfc0c89\">"
   ]
  },
  {
   "cell_type": "code",
   "execution_count": null,
   "id": "79634db3",
   "metadata": {},
   "outputs": [],
   "source": [
    "shap.summary_plot(shap_values[1], X_test)\n"
   ]
  },
  {
   "cell_type": "markdown",
   "id": "741a18c1",
   "metadata": {},
   "source": [
    "We can plot the summary of all those feature contribution. For example, in the titanic dataset, the gender of the person makes a large difference on the survival rate. If you are a man (red color) your survived rate is lowered for about -0.3. If you are a woman (blue dots), your survived rate would be increased by around 0.5. Other features pull and push but contribute around 0 to the final outcome.\n",
    "\n",
    "<img width=\"797\" alt=\"Screenshot 2023-06-06 at 15 29 17\" src=\"https://github.com/FlyingWhalesHQ/flying-whales-blog/assets/7457301/cca8a41e-4aeb-4a7f-ac0c-3b64adcdebfc\">"
   ]
  },
  {
   "cell_type": "code",
   "execution_count": null,
   "id": "24fcb902",
   "metadata": {},
   "outputs": [],
   "source": [
    "shap.force_plot(explainer.expected_value[1], shap_values[1][:100,:], X_train_new.iloc[:100,:])\n"
   ]
  },
  {
   "cell_type": "markdown",
   "id": "d1b43290",
   "metadata": {},
   "source": [
    "The push and pull of those features are not the same across all passengers\n",
    "\n",
    "<img width=\"888\" alt=\"Screenshot 2023-06-06 at 15 32 43\" src=\"https://github.com/FlyingWhalesHQ/flying-whales-blog/assets/7457301/ae1e9bcd-d89e-43be-8ad8-b9a052a28719\">"
   ]
  },
  {
   "cell_type": "markdown",
   "id": "8af3d987",
   "metadata": {},
   "source": [
    "For the home credit default risk, we preprocess the data, use 10,000 observations only and pick the top 10 features. In the Titanic dataset, we already have a look at how SHAP explain a prediction for the test set. Here we would see the explanation for the first datapoint in the training data set.\n",
    "\n",
    "For the first datapoint in the training set, the client did not default. The model predict the client to default at 0.27, the main factors being the credit ratings from external source 3 (toward defaulting) and external source 2 (toward not defaulting). The external source 3 pushes harder than external source 2. \n",
    "\n",
    "<img width=\"827\" alt=\"Screenshot 2023-06-06 at 16 11 32\" src=\"https://github.com/FlyingWhalesHQ/flying-whales-blog/assets/7457301/ff91ccc2-35c3-42e6-abd8-86e2db0f7c30\">\n",
    "\n",
    "To explain another observation using the waterfall plot, the predicted default rate is 0.02 (very low) compared to the expected prediction of 0.082. External source 3 still pushes the hardest and toward defaulting. It seems that external source 3 is a prominent but pessimistic credit rating scheme. Meanwhile, external source 2, number of employment days and other features predict toward not defaulting.\n",
    "\n",
    "<img width=\"867\" alt=\"Screenshot 2023-06-06 at 16 11 41\" src=\"https://github.com/FlyingWhalesHQ/flying-whales-blog/assets/7457301/b13703f3-c4de-4ba7-a21a-b23e120b4d2d\">\n",
    "\n",
    "In the following picture you can see the summary of SHAP. It turns out that high values in external source 2's and external source 3's rating lower the default rate and very low ratings provided by these two sources can increase the default rate about 0.1-0.2. Other features push and pull at around 0.\n",
    "\n",
    "<img width=\"849\" alt=\"Screenshot 2023-06-06 at 16 12 00\" src=\"https://github.com/FlyingWhalesHQ/flying-whales-blog/assets/7457301/d0133cdf-a052-4a51-b3f7-06a8b6faea57\">\n",
    "\n",
    "As above example, the effect of those features are not the same across observations.\n",
    "\n",
    "<img width=\"850\" alt=\"Screenshot 2023-06-06 at 16 12 21\" src=\"https://github.com/FlyingWhalesHQ/flying-whales-blog/assets/7457301/1f27d647-43cf-4d02-becf-2b0681dfed83\">\n",
    "\n",
    "SHAP can be used for analyzing deep neural network, too. Here is an example that SHAP analyze the image's pixel and plot what contributes to the final prediction of VGG16 - a popular neural network used for image processing, pretrained on the ImageNet dataset. As usual, SHAP colors the contributing pixels toward the prediction of \"golden retriever\" in red and the against pixels in blue. From the resulting image that SHAP plots for us, we can see that VGG has identified the breed of the dog by mostly focusing on the heads of the animals in the picture. Which validates the model by proving that it has actually learned to see the dogs by looking at the dog, not to predict randomly based on some heuristic environment or trivial cues in the images. As previously mentioned, a black box might as well looks at the environment cues such as snow to predict the image to be an image of wolf instead of husky. But we can trust the VGG in this case, we can trust that it is making decision based on good reasoning and logic."
   ]
  },
  {
   "cell_type": "code",
   "execution_count": null,
   "id": "f2d069f9",
   "metadata": {},
   "outputs": [],
   "source": [
    "# VGG NET\n",
    "\n",
    "import numpy as np\n",
    "import shap\n",
    "import keras.applications.vgg16 as vgg16\n",
    "from tensorflow.keras.preprocessing import image\n",
    "from keras.applications.vgg16 import preprocess_input, decode_predictions\n",
    "\n",
    "# Load VGG16 model\n",
    "model = vgg16.VGG16(weights='imagenet')\n",
    "\n",
    "# Load an image\n",
    "img_path = 'cat-dog.jpg'  # Replace with your image path\n",
    "img = image.load_img(img_path, target_size=(224, 224))\n",
    "x = image.img_to_array(img)\n",
    "x = np.expand_dims(x, axis=0)\n",
    "x = preprocess_input(x)\n",
    "\n",
    "# Initialize SHAP\n",
    "explainer = shap.GradientExplainer(model, preprocess_input(np.zeros((1,224,224,3))))\n",
    "\n",
    "# Compute SHAP values\n",
    "shap_values,indexes = explainer.shap_values(x, ranked_outputs=1)\n",
    "\n",
    "# Get class names\n",
    "index_names = np.vectorize(lambda x: decode_predictions(np.eye(1, 1000, x))[0][0][1])(indexes)\n",
    "\n",
    "# Plot SHAP values\n",
    "shap.image_plot(shap_values, x, index_names)"
   ]
  },
  {
   "cell_type": "markdown",
   "id": "8cdf6df7",
   "metadata": {},
   "source": [
    "<img width=\"489\" alt=\"Screenshot 2023-06-06 at 16 50 59\" src=\"https://github.com/FlyingWhalesHQ/flying-whales-blog/assets/7457301/a4d8d4f2-7c2e-43ea-919b-d8efbda0c15a\">\n"
   ]
  },
  {
   "cell_type": "markdown",
   "id": "2fa92722",
   "metadata": {},
   "source": [
    "# Conclusion \n",
    "\n",
    "Since calculating SHAP exactly is challenging, SHAP comes with variants. There are model agnostic approximation methods, like Shapley smapling values and kernel SHAP to approximate Shapley values. There are model specific approximation methods, like Linear SHAP, Deep SHAP.\n",
    "\n",
    "In conclusion, the need to balance accuracy and interpretability has motivated development of methods that aid in explaining predictions of machine learning models. This is a progressive step toward a better AI environment for end users, the non expert sets of people who also need the service of AI models. SHAP provides such explanation, built on sounding game theoretical concepts. It is able to provide consistent, locally accurate, and model agnostic explanations for individual predictions. The post has demonstrated how to use SHAP for both tabular and image data. It aids model understanding, feature importance, feature selection and model debugging when necessary. It can drill down to which words, which pixels or which features pushing or pulling the target, proving it to be an invaluable tool for a great range of users, from data analysts to business stakeholders.\n",
    "\n",
    "SHAP contributes to setting new standards on machine learning models. That we don't just need them to be accurate quantitatively, we need them to be logically right also. We should be reassured that the model is looking at the right features when suggesting decisions for high stake cases. Having SHAP in the toolbox increase our trust in AI and AI assisted decision making processes.\n"
   ]
  }
 ],
 "metadata": {
  "kernelspec": {
   "display_name": "Python 3 (ipykernel)",
   "language": "python",
   "name": "python3"
  },
  "language_info": {
   "codemirror_mode": {
    "name": "ipython",
    "version": 3
   },
   "file_extension": ".py",
   "mimetype": "text/x-python",
   "name": "python",
   "nbconvert_exporter": "python",
   "pygments_lexer": "ipython3",
   "version": "3.9.13"
  }
 },
 "nbformat": 4,
 "nbformat_minor": 5
}
