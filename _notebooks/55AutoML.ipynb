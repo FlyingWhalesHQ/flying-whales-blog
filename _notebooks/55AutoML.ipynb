{
 "cells": [
  {
   "cell_type": "markdown",
   "id": "bd4dcb44",
   "metadata": {},
   "source": [
    "---\n",
    "layout: post\n",
    "title:  \"AutoML and Neural Architecture Search\"\n",
    "date:   2023-06-23 10:14:54 +0700\n",
    "categories: MachineLearning\n",
    "---\n",
    "\n",
    "# Introduction\n",
    "\n",
    "AutoML is the future of machine learning."
   ]
  }
 ],
 "metadata": {
  "kernelspec": {
   "display_name": "Python 3 (ipykernel)",
   "language": "python",
   "name": "python3"
  },
  "language_info": {
   "codemirror_mode": {
    "name": "ipython",
    "version": 3
   },
   "file_extension": ".py",
   "mimetype": "text/x-python",
   "name": "python",
   "nbconvert_exporter": "python",
   "pygments_lexer": "ipython3",
   "version": "3.9.13"
  }
 },
 "nbformat": 4,
 "nbformat_minor": 5
}
