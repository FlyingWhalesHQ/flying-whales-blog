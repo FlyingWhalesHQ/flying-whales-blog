{
 "cells": [
  {
   "attachments": {},
   "cell_type": "markdown",
   "id": "f05660c9",
   "metadata": {},
   "source": [
    "---\n",
    "layout: post\n",
    "title:  \"Random Forest\"\n",
    "date:   2023-03-06 10:14:54 +0700\n",
    "categories: jekyll update\n",
    "---\n",
    "\n",
    "# TOC\n",
    "- [Definition](#define)\n",
    "- [Ensemble](#ensemble)\n",
    "- [Code example](#code)"
   ]
  }
 ],
 "metadata": {
  "kernelspec": {
   "display_name": "Python 3 (ipykernel)",
   "language": "python",
   "name": "python3"
  },
  "language_info": {
   "codemirror_mode": {
    "name": "ipython",
    "version": 3
   },
   "file_extension": ".py",
   "mimetype": "text/x-python",
   "name": "python",
   "nbconvert_exporter": "python",
   "pygments_lexer": "ipython3",
   "version": "3.9.13"
  }
 },
 "nbformat": 4,
 "nbformat_minor": 5
}
