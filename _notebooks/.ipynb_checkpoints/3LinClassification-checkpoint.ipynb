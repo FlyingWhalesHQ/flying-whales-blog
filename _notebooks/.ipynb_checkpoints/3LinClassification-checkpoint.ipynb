{
 "cells": [
  {
   "cell_type": "markdown",
   "id": "ae314ce9",
   "metadata": {},
   "source": [
    "---\n",
    "layout: post\n",
    "title:  \"Linear Classification\"\n",
    "date:   2023-03-06 2:30:54 +0700\n",
    "categories: jekyll update\n",
    "---\n",
    "\n",
    "# TOC\n",
    "- [Introduction](#intro)\n",
    "- [Code example](#code)\n",
    "\n",
    "# Introduction <a name=\"intro\"></a>\n",
    "\n",
    "Remember the linear combination of weights $$\\theta$$ and input features x:\n",
    "\n",
    "$$ \\hat{y}=h_{\\theta}(x) = \\theta \\cdot x $$\n",
    "\n",
    "Think about all the times we wrap this linear combinations in a nonlinear function to activate it (it here means the linear combination, it could be translated as to activate a neuron in deep learning context). In this post we would browse different nonlinear functions that ouput classes instead of a value, to serve the problem of classifying input data into classes. Let's consider binary classifers.\n",
    "\n",
    "## Sign function\n",
    "\n",
    "A sign function is named so since it outputs the sign of the value of the linear combination:\n",
    "\n",
    "$$ sign(\\hat{y}) = \n",
    "\\begin{cases}\n",
    "        -1 & \\text{if $\\hat{y}$ < 0}\\\\\n",
    "        +1 & \\text{if $\\hat{y}$ > 0}\\\\\n",
    "        0 & \\text{if $\\hat{y}$ = 0}\\\\\n",
    "\\end{cases}\n",
    "$$\n",
    "\n",
    "The decision boundary according to x for this classification problem is $$ \\hat{y} = \\theta \\cdot x = 0 $$\n",
    "\n",
    "## Loss functions and their gradients\n",
    "\n",
    "### Zero-one loss function\n",
    "\n",
    "The loss function for the sign function is a zero-one loss function. Which means that if we output the correct sign, the loss is 0, if we output the incorrect sign, the loss is 1. The loss function for a single point of the data is: \n",
    "\n",
    "$$ Loss_{0-1}(x,y,\\theta) = 1[\\hat{y} \\ne y] $$\n",
    "\n",
    "$$ 1[...] $$ is a function such that if the inside statement is true, it returns value 1, if false, it returns 0. For the whole training dataset, we simply take average of those smaller loss functions. There are two more concepts that we need to know: the score and the margin. The score is $$ \\theta \\cdot x $$ and it is how confident we are in predicting the positive class. The margin is $$ (\\theta \\cdot x)y = \\hat{y} y $$ and it shows how correct we are. Since the margin takes into account the largeness of prediction and true value, we use it as the loss function instead of the not-equal comparison. Actually they are equivalent:\n",
    "\n",
    "$$ Loss_{0-1}(x,y,\\theta) = 1[\\hat{y} \\ne y] $$\n",
    "\n",
    "$$ \\Leftrightarrow Loss_{0-1}(x,y,\\theta) = 1 [(\\theta \\cdot x) y <= 0 ] $$\n",
    "\n",
    "<img width=\"339\" alt=\"LinClass\" src=\"https://user-images.githubusercontent.com/7457301/224597096-37846d67-d9a6-4940-bffb-d6325cb3657c.png\">\n",
    "<p style=\"font-size:9px\">Source: https://stanford-cs221.github.io/autumn2022/modules/module.html#include=machine-learning/linear-classification.js&mode=print1pp</p>\n",
    "\n",
    "Now we can plot the loss function, for all margin values that are negative, the loss is 1. For all margin values that are non negative, the loss is 0. Remember that the total loss of the whole training set is the average of all the loss zero-one function for each data point, hence the gradient of the total loss depends on the total gradient of all smaller loss functions, apart from the scalar of dividing by the size of the training set (for averaging calculation). Here is the total of smaller gradients:\n",
    "\n",
    "$$ \\nabla_{\\theta} Loss_{0-1}(x,y,\\theta) = \\nabla 1 {[(\\theta \\cdot x) y <= 0 ]} $$\n",
    "\n",
    "Gradient of this loss function is almost zero everywhere, except for the point where margin = 0, at that point gradient is infinite. This is hard in updating the parameters hence optimization.\n",
    "\n",
    "### Hinge loss function\n",
    "\n",
    "To account for that, we use the hinge loss function:\n",
    "\n",
    "$$ Loss_{hinge} (x,y,\\theta) = max\\{1 - margin, 0\\} $$\n",
    "\n",
    "When margin >= 1 (when we are correct), the loss function equals 0. When margin < 1, the loss decreases gradually (linearly). Gradient of the hinge loss is better than the zero-one loss function:\n",
    "\n",
    "$$ \\nabla Loss_{hinge}(x,y,\\theta) = \n",
    "\\begin{cases}\n",
    "    -xy & \\text{if 1 - margin > 0}\\\\\n",
    "    0 & \\text{otherwise}\n",
    "\\end{cases}\n",
    "$$\n",
    "\n",
    "We said 0 otherwise since it is mostly otherwise. At the exact 0, the gradient doesn't exist since the left derivative and the right derivative don't match (the function is abrupt at that point).\n",
    "\n",
    "Let's compare zero-one loss and hinge loss. In zero-one loss, the prediction is exact: either you hit or you miss, and you score accordingly. But in hinge loss, we don't just use the margin, we use $$ 1 - margin $$, so we aim for some positive margin even when we already predict correctly. That changes the loss a bit fundamentally.\n",
    "\n",
    "### Logistic loss\n",
    "\n",
    "Logistic loss function graph descends smoother than hinge loss function graph. And this loss functions only goes towards 0, it never reaches 0.\n",
    "\n",
    "$$ Loss_{logistic}(x,y,\\theta) = log(1+e^{-(\\theta \\cdot x)y}) $$\n",
    "\n",
    "# Code example <a name=\"code\"></a>\n",
    "\n",
    "|$$x_1$$|$$x_2$$|y|\n",
    "|--|--|--|\n",
    "|3|-1|+1|\n",
    "|2|3|+1|\n",
    "|-1|0|-1|\n",
    "\n",
    "|$$\\theta_1$$|$$\\theta_2$$|\n",
    "|--|--|\n",
    "|0.5|3|\n"
   ]
  },
  {
   "cell_type": "code",
   "execution_count": 2,
   "id": "9071f162",
   "metadata": {},
   "outputs": [
    {
     "data": {
      "text/plain": [
       "array([[-1.5],\n",
       "       [10. ],\n",
       "       [-0.5]])"
      ]
     },
     "execution_count": 2,
     "metadata": {},
     "output_type": "execute_result"
    }
   ],
   "source": [
    "import numpy as np\n",
    "x=[[3,-1],[2,3],[-1,0]]\n",
    "theta=[[.5],[3]]\n",
    "yhat=np.dot(x,theta)\n",
    "yhat"
   ]
  },
  {
   "cell_type": "markdown",
   "id": "5b05a301",
   "metadata": {},
   "source": [
    "|$$ x_1 $$|$$ x_2 $$|y|$$ h_{\\theta} $$|$$ \\hat{y}=sgn(h_{\\theta}) $$|zero-one loss|\n",
    "|--|--|--|--|--|--|\n",
    "|3|-1| -1.5|+1|-1|1|\n",
    "|2|3| 10|+1|+1|0|\n",
    "|-1|0| -0.5|-1|-1|0|\n",
    "\n",
    "training loss = $ \\frac{1}{3}$"
   ]
  },
  {
   "cell_type": "markdown",
   "id": "b83ac762",
   "metadata": {},
   "source": [
    "|$$ x_1 $$|$$ x_2 $$|y|$$ h_{\\theta} $$|$$ \\hat{y}=sgn(h_{\\theta}) $$|zero-one loss|margin=$ \\hat{y}{y} $|hinge|\n",
    "|--|--|--|--|--|--|--|--|\n",
    "|3|-1| -1.5|+1|-1|1|1.5|0|\n",
    "|2|3| 10|+1|+1|0|10|0|\n",
    "|-1|0| -0.5|-1|-1|0|0.5|0.5|\n",
    "\n",
    "training loss = $ \\frac{1}{6}$"
   ]
  }
 ],
 "metadata": {
  "kernelspec": {
   "display_name": "Python 3 (ipykernel)",
   "language": "python",
   "name": "python3"
  },
  "language_info": {
   "codemirror_mode": {
    "name": "ipython",
    "version": 3
   },
   "file_extension": ".py",
   "mimetype": "text/x-python",
   "name": "python",
   "nbconvert_exporter": "python",
   "pygments_lexer": "ipython3",
   "version": "3.9.13"
  }
 },
 "nbformat": 4,
 "nbformat_minor": 5
}
