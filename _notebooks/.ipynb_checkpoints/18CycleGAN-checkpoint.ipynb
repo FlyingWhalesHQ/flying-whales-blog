{
 "cells": [
  {
   "cell_type": "markdown",
   "id": "a5b20a88",
   "metadata": {},
   "source": [
    "---\n",
    "layout: post\n",
    "title:  \"Cycle Generative Adversarial Network\"\n",
    "date:   2023-03-24 10:14:54 +0700\n",
    "categories: jekyll update\n",
    "---\n",
    "\n",
    "# Introduction\n",
    "\n",
    "The first difference between CycleGAN and other GANs is that it is unpaired image translation. Unpaired means that the input images don't look like each other, the translation part only takes care of transfering the style. So it is a style transfering GAN, but the mechanism is different from StyleGAN. \n",
    "\n",
    "<img width=\"611\" alt=\"Screen Shot 2023-03-24 at 11 41 59\" src=\"https://user-images.githubusercontent.com/7457301/227426252-783ffe3c-51f6-41d2-b13e-f2172b2ae76d.png\">\n",
    "\n"
   ]
  },
  {
   "cell_type": "code",
   "execution_count": null,
   "id": "be1f3c42",
   "metadata": {},
   "outputs": [],
   "source": []
  }
 ],
 "metadata": {
  "kernelspec": {
   "display_name": "Python 3 (ipykernel)",
   "language": "python",
   "name": "python3"
  },
  "language_info": {
   "codemirror_mode": {
    "name": "ipython",
    "version": 3
   },
   "file_extension": ".py",
   "mimetype": "text/x-python",
   "name": "python",
   "nbconvert_exporter": "python",
   "pygments_lexer": "ipython3",
   "version": "3.9.13"
  }
 },
 "nbformat": 4,
 "nbformat_minor": 5
}
