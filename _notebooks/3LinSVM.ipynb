{
 "cells": [
  {
   "cell_type": "markdown",
   "id": "ae314ce9",
   "metadata": {},
   "source": [
    "---\n",
    "layout: post\n",
    "title:  \"Linear Support Vector Machine (SVM)\"\n",
    "date:   2021-06-06 2:30:54 +0700\n",
    "categories: MachineLearning\n",
    "---\n",
    "\n",
    "# TOC\n",
    "- [Introduction](#intro)\n",
    "- [Code example](#code)\n",
    "\n",
    "# Introduction <a name=\"intro\"></a>\n",
    "\n",
    "Remember the linear combination of weights $$\\theta$$ and input features x:\n",
    "\n",
    "$$ \\hat{y}=h_{\\theta}(x) = \\theta \\cdot x $$\n",
    "\n",
    "Think about all the times we wrap this linear combinations in a nonlinear function to activate it (it here means the linear combination, it could be translated as to activate a neuron in deep learning context). In this post we would browse different nonlinear functions that ouput classes instead of a value, to serve the problem of classifying input data into classes. Let's consider a binary classifer called linear support vector machine (SVM).\n",
    "\n",
    "## Sign function\n",
    "\n",
    "Linear Support Vector Machine is the problem that it find a separating line for data points (hence classification). There are 2 classes hence we use a sign function with a hinge loss. A perceptron is also a linear classification problem that uses the sign hypothesis function but it uses a different loss function. A sign function is named so since it outputs the sign of the value of the linear combination:\n",
    "\n",
    "$$ sign(\\hat{y}) = \n",
    "\\begin{cases}\n",
    "        -1 & \\text{if $\\hat{y}$ < 0}\\\\\n",
    "        +1 & \\text{if $\\hat{y}$ > 0}\\\\\n",
    "        0 & \\text{if $\\hat{y}$ = 0}\\\\\n",
    "\\end{cases}\n",
    "$$\n",
    "\n",
    "The decision boundary according to x for this classification problem is $$ \\hat{y} = \\theta \\cdot x = 0 $$\n",
    "\n",
    "## Loss functions and their gradients\n",
    "\n",
    "### Zero-one loss function\n",
    "\n",
    "The loss function for the sign function is a zero-one loss function. Which means that if we output the correct sign, the loss is 0, if we output the incorrect sign, the loss is 1. The loss function for a single point of the data is: \n",
    "\n",
    "$$ Loss_{0-1}(x,y,\\theta) = 1[\\hat{y} \\ne y] $$\n",
    "\n",
    "$$ 1[...] $$ is a function such that if the inside statement is true, it returns value 1, if false, it returns 0. For the whole training dataset, we simply take average of those smaller loss functions. There are two more concepts that we need to know: the score and the margin. The score is $$ \\theta \\cdot x $$ and it is how confident we are in predicting the positive class. The margin is $$ (\\theta \\cdot x)y = \\hat{y} y $$ and it shows how correct we are. Since the margin takes into account the largeness of prediction and true value, we use it as the loss function instead of the not-equal comparison. Actually they are equivalent:\n",
    "\n",
    "$$ Loss_{0-1}(x,y,\\theta) = 1[\\hat{y} \\ne y] $$\n",
    "\n",
    "$$ \\Leftrightarrow Loss_{0-1}(x,y,\\theta) = 1 [(\\theta \\cdot x) y <= 0 ] $$\n",
    "\n",
    "Consider 3 data points with 2 features:\n",
    "\n",
    "|$$x_1$$|$$x_2$$|y|\n",
    "|--|--|--|\n",
    "|3|-1|+1|\n",
    "|2|3|+1|\n",
    "|-1|0|-1|\n",
    "\n",
    "Take two random parameters values:\n",
    "\n",
    "|$$\\theta_1$$|$$\\theta_2$$|\n",
    "|--|--|\n",
    "|0.5|3|\n"
   ]
  },
  {
   "cell_type": "code",
   "execution_count": 1,
   "id": "84a946e5",
   "metadata": {},
   "outputs": [
    {
     "data": {
      "text/plain": [
       "array([[-1.5],\n",
       "       [10. ],\n",
       "       [-0.5]])"
      ]
     },
     "execution_count": 1,
     "metadata": {},
     "output_type": "execute_result"
    }
   ],
   "source": [
    "import numpy as np\n",
    "x=[[3,-1],[2,3],[-1,0]]\n",
    "theta=[[.5],[3]]\n",
    "yhat=np.dot(x,theta)\n",
    "yhat"
   ]
  },
  {
   "cell_type": "markdown",
   "id": "fcebaed4",
   "metadata": {},
   "source": [
    "Here is the zero-one losses for 3 such data points:\n",
    "\n",
    "|$$ x_1 $$|$$ x_2 $$|y|$$ h_{\\theta} $$|$$ \\hat{y}=sgn(h_{\\theta}) $$|zero-one loss|\n",
    "|--|--|--|--|--|--|\n",
    "|3|-1| -1.5|+1|-1|1|\n",
    "|2|3| 10|+1|+1|0|\n",
    "|-1|0| -0.5|-1|-1|0|\n",
    "\n",
    "The training loss is the average of the 3 smaller losses and equals $$ \\frac{1}{3}$$.\n",
    "\n",
    "Now we can plot the loss function, for all margin values that are negative, the loss is 1. For all margin values that are non negative, the loss is 0.\n",
    "\n",
    "<img width=\"339\" alt=\"LinClass\" src=\"https://user-images.githubusercontent.com/7457301/224597096-37846d67-d9a6-4940-bffb-d6325cb3657c.png\">\n",
    "<p style=\"font-size:9px\">Source: https://stanford-cs221.github.io/autumn2022/modules/module.html#include=machine-learning/linear-classification.js&mode=print1pp</p>\n",
    "\n",
    "Remember that the total loss of the whole training set is the average of all the loss zero-one function for each data point, hence the gradient of the total loss depends on the total gradient of all smaller loss functions, apart from the scalar of dividing by the size of the training set (for averaging calculation). Here is the total of smaller gradients:\n",
    "\n",
    "$$ \\nabla_{\\theta} Loss_{0-1}(x,y,\\theta) = \\nabla 1 {[(\\theta \\cdot x) y <= 0 ]} $$\n",
    "\n",
    "Gradient of this loss function is almost zero everywhere, except for the point where margin = 0, at that point gradient is infinite. This is hard in updating the parameters hence optimization.\n",
    "\n",
    "\n",
    "### Hinge loss function\n",
    "\n",
    "To account for that, we use the hinge loss function:\n",
    "\n",
    "$$ Loss_{hinge} (x,y,\\theta) = max\\{1 - margin, 0\\} $$\n",
    "\n",
    "<img width=\"460\" alt=\"LinClass2\" src=\"https://user-images.githubusercontent.com/7457301/224625191-51e6e9f9-f702-448b-8747-0585771bb527.png\">\n",
    "\n",
    "<p style=\"font-size:9px\">Source: https://stanford-cs221.github.io/autumn2022/modules/module.html#include=machine-learning/linear-classification.js&mode=print1pp</p>\n",
    "\n",
    "When margin >= 1 (when we are correct), the loss function equals 0. When margin < 1, the loss decreases gradually (linearly). \n",
    "\n",
    "|$$ x_1 $$|$$ x_2 $$|y|$$ h_{\\theta} $$|$$ \\hat{y}=sgn(h_{\\theta}) $$|zero-one loss|margin=$ \\hat{y}{y} $|hinge|\n",
    "|--|--|--|--|--|--|--|--|\n",
    "|3|-1| -1.5|+1|-1|1|1.5|0|\n",
    "|2|3| 10|+1|+1|0|10|0|\n",
    "|-1|0| -0.5|-1|-1|0|0.5|0.5|\n",
    "\n",
    "We have the total loss on the training set to be $$ \\frac{1}{6}$$.\n",
    "\n",
    "For gradient, the gradient of the hinge loss is better than the zero-one loss function:\n",
    "\n",
    "$$ \\nabla Loss_{hinge}(x,y,\\theta) = \n",
    "\\begin{cases}\n",
    "    -xy & \\text{if 1 - margin > 0}\\\\\n",
    "    0 & \\text{otherwise}\n",
    "\\end{cases}\n",
    "$$\n",
    "\n",
    "We said 0 otherwise since it is mostly otherwise. At the exact 0, the gradient doesn't exist since the left derivative and the right derivative don't match (the function is abrupt at that point).\n",
    "\n",
    "Let's compare zero-one loss and hinge loss. In zero-one loss, the prediction is exact: either you hit or you miss, and you score accordingly. But in hinge loss, we don't just use the margin, we use $$ 1 - margin $$, so we aim for some positive margin even when we already predict correctly. That changes the loss a bit fundamentally.\n",
    "\n",
    "### Logistic loss\n",
    "\n",
    "Logistic loss function graph descends smoother than hinge loss function graph. And this loss functions only goes towards 0, it never reaches 0.\n",
    "\n",
    "$$ Loss_{logistic}(x,y,\\theta) = log(1+e^{-(\\theta \\cdot x)y}) $$\n",
    "\n",
    "# Code example <a name=\"code\"></a>\n",
    "\n",
    "Let's use the wine dataset in the sklearn's repository. Since we have 13 features, to make the visualizing example, we would choose two most significant features using linear regression. We also collapse the target from 3 categories to 2. Then we run the support vector machine algorithm from sklearn and plot the decision boundary."
   ]
  },
  {
   "cell_type": "code",
   "execution_count": 2,
   "id": "e84f79eb",
   "metadata": {},
   "outputs": [
    {
     "data": {
      "text/plain": [
       "array([-0.11700384,  0.03017099, -0.14855216,  0.03985434, -0.00048977,\n",
       "        0.14432013, -0.37239141, -0.30347431,  0.03935653,  0.07562387,\n",
       "       -0.14924506, -0.2700542 , -0.00070114])"
      ]
     },
     "execution_count": 2,
     "metadata": {},
     "output_type": "execute_result"
    }
   ],
   "source": [
    "from sklearn.datasets import load_wine\n",
    "data = load_wine()\n",
    "X=data.data\n",
    "y=data.target\n",
    "from sklearn.linear_model import LinearRegression\n",
    "np.set_printoptions(suppress=True)\n",
    "lr = LinearRegression()\n",
    "lr = lr.fit(X,y)\n",
    "lr.coef_"
   ]
  },
  {
   "cell_type": "code",
   "execution_count": 3,
   "id": "af1eb562",
   "metadata": {},
   "outputs": [],
   "source": [
    "X_new = X[:,6]\n",
    "X_new=np.append(X_new, X[:,6])\n",
    "y_new= []\n",
    "\n",
    "for element in y:\n",
    "  if element > 1:\n",
    "    y_new.append(1)\n",
    "  else:\n",
    "    y_new.append(0)"
   ]
  },
  {
   "cell_type": "code",
   "execution_count": 4,
   "id": "b760fb8a",
   "metadata": {},
   "outputs": [],
   "source": [
    "X_new = []\n",
    "X_new.append(X[:,6])\n",
    "X_new.append(X[:,7])\n",
    "X_new=np.array(X_new).transpose()"
   ]
  },
  {
   "cell_type": "code",
   "execution_count": 5,
   "id": "701e6f6d",
   "metadata": {},
   "outputs": [],
   "source": [
    "from sklearn.model_selection import train_test_split\n",
    "X_train, X_test, y_train, y_test = train_test_split(X_new, y_new, test_size=0.2, random_state=42)"
   ]
  },
  {
   "cell_type": "code",
   "execution_count": 6,
   "id": "67e3c649",
   "metadata": {},
   "outputs": [
    {
     "data": {
      "text/plain": [
       "0.9722222222222222"
      ]
     },
     "execution_count": 6,
     "metadata": {},
     "output_type": "execute_result"
    }
   ],
   "source": [
    "from sklearn.svm import SVC\n",
    "clf = SVC(kernel = 'linear', C = 1e5) # just a big number \n",
    "clf.fit(X_train, y_train) \n",
    "y_pred=clf.predict(X_test)\n",
    "\n",
    "from sklearn.metrics import accuracy_score\n",
    "accuracy_score(y_test,y_pred)"
   ]
  },
  {
   "cell_type": "code",
   "execution_count": 7,
   "id": "8bb56d27",
   "metadata": {},
   "outputs": [
    {
     "ename": "NameError",
     "evalue": "name 'svc_model' is not defined",
     "output_type": "error",
     "traceback": [
      "\u001b[0;31m---------------------------------------------------------------------------\u001b[0m",
      "\u001b[0;31mNameError\u001b[0m                                 Traceback (most recent call last)",
      "\u001b[0;32m/var/folders/kf/5_ggvsz93vxdbx_h0tvy66xh0000gn/T/ipykernel_9387/2929301100.py\u001b[0m in \u001b[0;36m<module>\u001b[0;34m\u001b[0m\n\u001b[1;32m      8\u001b[0m                 s=8);\n\u001b[1;32m      9\u001b[0m \u001b[0;31m# Constructing a hyperplane using a formula.\u001b[0m\u001b[0;34m\u001b[0m\u001b[0;34m\u001b[0m\u001b[0m\n\u001b[0;32m---> 10\u001b[0;31m \u001b[0mw\u001b[0m \u001b[0;34m=\u001b[0m \u001b[0msvc_model\u001b[0m\u001b[0;34m.\u001b[0m\u001b[0mcoef_\u001b[0m\u001b[0;34m[\u001b[0m\u001b[0;36m0\u001b[0m\u001b[0;34m]\u001b[0m           \u001b[0;31m# w consists of 2 elements\u001b[0m\u001b[0;34m\u001b[0m\u001b[0;34m\u001b[0m\u001b[0m\n\u001b[0m\u001b[1;32m     11\u001b[0m \u001b[0mb\u001b[0m \u001b[0;34m=\u001b[0m \u001b[0msvc_model\u001b[0m\u001b[0;34m.\u001b[0m\u001b[0mintercept_\u001b[0m\u001b[0;34m[\u001b[0m\u001b[0;36m0\u001b[0m\u001b[0;34m]\u001b[0m      \u001b[0;31m# b consists of 1 element\u001b[0m\u001b[0;34m\u001b[0m\u001b[0;34m\u001b[0m\u001b[0m\n\u001b[1;32m     12\u001b[0m \u001b[0mx_points\u001b[0m \u001b[0;34m=\u001b[0m \u001b[0mnp\u001b[0m\u001b[0;34m.\u001b[0m\u001b[0mlinspace\u001b[0m\u001b[0;34m(\u001b[0m\u001b[0;36m1.1\u001b[0m\u001b[0;34m,\u001b[0m\u001b[0;36m1.3\u001b[0m\u001b[0;34m)\u001b[0m    \u001b[0;31m# generating x-points from -1 to 1\u001b[0m\u001b[0;34m\u001b[0m\u001b[0;34m\u001b[0m\u001b[0m\n",
      "\u001b[0;31mNameError\u001b[0m: name 'svc_model' is not defined"
     ]
    },
    {
     "data": {
      "image/png": "[encoded data removed]",
      "text/plain": [
       "<Figure size 1000x800 with 1 Axes>"
      ]
     },
     "metadata": {},
     "output_type": "display_data"
    }
   ],
   "source": [
    "import matplotlib.pyplot as plt\n",
    "import seaborn as sns\n",
    "plt.figure(figsize=(10, 8))\n",
    "# Plotting our two-features-space\n",
    "sns.scatterplot(x=X_new[:, 0], \n",
    "                y=X_new[:, 1], \n",
    "                hue=y_new, \n",
    "                s=8);\n",
    "# Constructing a hyperplane using a formula.\n",
    "w = svc_model.coef_[0]           # w consists of 2 elements\n",
    "b = svc_model.intercept_[0]      # b consists of 1 element\n",
    "x_points = np.linspace(1.1,1.3)    # generating x-points from -1 to 1\n",
    "y_points = -(w[0] / w[1]) * x_points - b / w[1]  # getting corresponding y-points\n",
    "# Plotting a red hyperplane\n",
    "plt.plot(x_points, y_points, c='r');"
   ]
  },
  {
   "cell_type": "markdown",
   "id": "3d0f02ba",
   "metadata": {},
   "source": [
    "![3LinSVM_8_0](https://user-images.githubusercontent.com/7457301/224625394-60a022ce-061f-46db-a2dc-d3837ac3f2d8.png)"
   ]
  },
  {
   "cell_type": "code",
   "execution_count": null,
   "id": "cd05638d",
   "metadata": {
    "scrolled": true
   },
   "outputs": [],
   "source": [
    "plt.figure(figsize=(10, 8))\n",
    "\n",
    "sns.scatterplot(x=X_new[:, 0], \n",
    "                y=X_new[:, 1], \n",
    "                hue=y_new, \n",
    "                s=8);\n",
    "\n",
    "\n",
    "w = svc_model.coef_[0]           # w consists of 2 elements\n",
    "b = svc_model.intercept_[0]      # b consists of 1 element\n",
    "x_points = np.linspace(1.1, 1.3)    # generating x-points from -1 to 1\n",
    "y_points = -(w[0] / w[1]) * x_points - b / w[1]  # getting corresponding y-points\n",
    "plt.plot(x_points, y_points, c='r');\n",
    "\n",
    "\n",
    "plt.scatter(svc_model.support_vectors_[:, 0],\n",
    "            svc_model.support_vectors_[:, 1], \n",
    "            s=50, \n",
    "            facecolors='none', \n",
    "            edgecolors='k', \n",
    "            alpha=.5);\n",
    "\n",
    "\n",
    "w_hat = svc_model.coef_[0] / (np.sqrt(np.sum(svc_model.coef_[0] ** 2)))\n",
    "margin = 1 / np.sqrt(np.sum(svc_model.coef_[0] ** 2))\n",
    "decision_boundary_points = np.array(list(zip(x_points, y_points)))\n",
    "points_of_line_above = decision_boundary_points + w_hat * margin\n",
    "points_of_line_below = decision_boundary_points - w_hat * margin\n",
    "plt.plot(points_of_line_above[:, 0], \n",
    "         points_of_line_above[:, 1], \n",
    "         'b--', \n",
    "         linewidth=2)\n",
    "plt.plot(points_of_line_below[:, 0], \n",
    "         points_of_line_below[:, 1], \n",
    "         'g--',\n",
    "         linewidth=2)"
   ]
  },
  {
   "cell_type": "markdown",
   "id": "46ea55fe",
   "metadata": {},
   "source": [
    "![3LinSVM_9_1](https://user-images.githubusercontent.com/7457301/224625396-8b1bf3c8-b285-4051-8301-4652e9ebac4c.png)"
   ]
  }
 ],
 "metadata": {
  "kernelspec": {
   "display_name": "Python 3 (ipykernel)",
   "language": "python",
   "name": "python3"
  },
  "language_info": {
   "codemirror_mode": {
    "name": "ipython",
    "version": 3
   },
   "file_extension": ".py",
   "mimetype": "text/x-python",
   "name": "python",
   "nbconvert_exporter": "python",
   "pygments_lexer": "ipython3",
   "version": "3.9.13"
  },
  "vscode": {
   "interpreter": {
    "hash": "31f2aee4e71d21fbe5cf8b01ff0e069b9275f58929596ceb00d14d90e3e16cd6"
   }
  }
 },
 "nbformat": 4,
 "nbformat_minor": 5
}
