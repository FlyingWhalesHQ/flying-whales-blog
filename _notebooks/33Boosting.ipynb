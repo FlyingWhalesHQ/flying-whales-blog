{
 "cells": [
  {
   "cell_type": "markdown",
   "id": "aafbb020",
   "metadata": {},
   "source": [
    "---\n",
    "layout: post\n",
    "title:  \"Boosting\"\n",
    "date:   2023-05-17 10:14:54 +0700\n",
    "categories: MachineLearning\n",
    "---\n",
    "\n",
    "# TOC\n",
    "\n",
    "- [Ensemble learning](#ens)\n",
    "- [AdaBoost](#ada)\n",
    "- [Gradient boosting](#grad)\n",
    "- [Stochastic gradient boosting](#sto)\n",
    "- [XGBoost](#xgb)\n",
    "\n",
    "# Ensemble learning\n",
    "\n",
    "Ensemble learning happens when we have multiple models but they are weak. Weak learners are models that predict a little better than random. We ensemble them together in some ways to achieve better prediction (better bias and variance). This is also called meta-learning. The three most popular ensemble learning methods are bagging, boosting, and stacking.\n",
    "\n",
    "- Bagging is when we train those models in parallel. We sample with replacement to create new dataset for those models. This method of sampling is called bootstrapping. Random Forest is bagging. Each tree is then trained in parallel on random subset of the data and then the resulted predictions are averaged to find the classification (aggregation). Hence the name bootstrapping aggregation (bagging).\n",
    "\n",
    "- Boosting is the method in which we train the model sequentially. Each model will fit the error of the previous model. In this way, the next learner improves from the mistake of the previous learner. \n",
    "\n",
    "- Stacking is where we train multiple base models to solve similar problem, then based on the combined output, we build a new model with improved performance. In stacking, an algorithm takes the outputs of base models as input then learn to best combine them. It is also called stacked generalization, since all base models are equally considered, the models are called stacked on top of each other.\n",
    "\n",
    "<img src=\"https://images.viblo.asia/7175acfc-25a5-4019-9c7a-a7f03f11710c.png\">\n",
    "\n",
    "In stacking, the output of base models can be linearly regressed to combine for the regression problem. And they can be logistically regressed to combine for the classification problem. Stacked model doesn't directly use the data input but the learned results of its base models.\n",
    "\n",
    "There are reasons for the improvement in performance after boosting. First is that it generates a hypothesis whose error on the training set is small by combining many hypotheses whose error may be large (but still better than random guessing). It does so by challenging the weak learners with the harder part of the sample space. It also forces the weak learning algorithm to change its hypothesies by changing the distribution over training examples as a function of the error made by the previous hypotheses. Second, taking a weighted majority over many hypotheses, all of which are trained on different samples taken out of the same training set, can reduce the random variability of the combined hypothesis.\n",
    "\n",
    "In this post, we would see popular boosting algorithms such as AdaBoost, gradient boosting, and XGBoost.\n",
    "\n",
    "# AdaBoost\n",
    "\n",
    "AdaBoost is short for adaptive boosting. It uses an iterative approach to learn from the mistakes of weak classifier and achieve the composite prediction of an equivalent strong one. The weak classifiers that would be used for groupping are called base models. The base models would be very simple trees. When there are only two leaves in the tree (a single split of decision), we call it a decision stump. \n",
    "\n",
    "The AdaBoost algorithm is as follows. In the initial step, the dataset is initialized with equal weight to each of the data point. The data is then provided as the input into the model, then the wrongly classified data is identified. Those data points' weights would be increased in the next round, so that they are more likely to be chosen during the sampling. The model therefore pays more attention to difficult observations, and with the feedback of gradient descent, they would learn gradually the tricky cases. Hence the word adaptive.\n",
    "\n",
    "The boosting algorithm takes a training set of m examples $$ S = ((x_1, y_1),...(x_m, y_m)) $$ where $$ x_i $$ is an instance from X and $$ y_i $$ is the label. We also have a learning algorithm called WeakLearn. WeakLearn would be called repeatedly for T iterations. In each round t, the booster gives WeakLearn a distribution $$ D_t $$ over the training set S. WeakLearn will compute a classifier or hypothesis $$ h_t: X \\to Y $$ which would be able to classify correctly a fraction of the training set. WeakLearn would also try to minimize the error $$ \\epsilon_t = Pr_{i \\in D_t} {[h_t(x_i) \\neq y_i]} $$. At last, the booster combines all the weak hypothesis $$ h_1,..h_T $$ into a single final hypothesis $$ h_{fin} $$.\n",
    "\n",
    "The initial distribution $$ D_1 $$ would be uniform over S, so $$ D_1(i) = 1/m \\forall i $$. We then compute $$ D_{t+1} $$ from $$ D_t $$ and the last weak hypothesis $$ h_t $$: we multiply the weight of example i by some number $$ \\beta_t \\in [0,1) $$ if $$ h_t $$ gets $$ x_i $$ right, otherwise the weight is left unchanged. Then all the weights are normalized. Easy examples would have less and less weight eventually. Thus AdaBoost can focus most of its weights on the hardest examples for WeakLearn.\n",
    "\n",
    "$$ \\beta_t $$ is a function of $$ \\epsilon_t $$. And the final hypothesis $$ h_{fin} $$ is a weighted vote (weighted linear threshold) of the weak hypotheses. For a given x, $$ h_{fin} $$ outputs the label y that maximizes the sum of the weights of the weak hypotheses for that label. The weight of hypothesis $$ h_t $$ is $$ log(1/\\beta_t) $$ so that lower error hypotheses get higher weights. \n",
    "\n",
    "Here is the full algorithm:\n",
    "\n",
    "- Initialize $$ D_1(i) = 1/m \\forall i $$\n",
    "- For t = 1,2..T:\n",
    "    - Call WeakLearn, give it distribution $$ D_t $$\n",
    "    - Get back a hypothesis $$ h_t: X \\to Y $$\n",
    "    - Calculate the error of $$ h_t: \\epsilon_t = \\sum_{i: h_t(x_i) \\neq y_i} D_t(i) $$. If $$ \\epsilon_t > 1/2 $$ set T = t-1 and abort loop\n",
    "    - Set $$ \\beta_t = \\epsilon_t / (1 - \\epsilon_t) $$\n",
    "    - Update distribution $$ D_t $$:\n",
    "    \n",
    "    $$ D_{t+1} (i) = \\frac{D_t(i)}{Z_t} x \\beta_t $$ if $$ h_t(x_i) = y_i $$. $$ \\beta_t = 1 $$ otherwise. $$ Z_t $$ is the normalization constant.\n",
    "    \n",
    "- Output the final hypothesis:\n",
    "\n",
    "$$ h_{fin}(x) = argmax_{y \\in Y} \\sum_{t: h_t(x) = y} log \\frac{1}{\\beta_t} $$\n",
    "\n",
    "The property of AdaBoost is that if WeakLearn's output is slightly better than 1/2, the training error of final hypothesis drops to zero exponentially fast.\n",
    "\n"
   ]
  },
  {
   "cell_type": "code",
   "execution_count": 7,
   "id": "95b085cb",
   "metadata": {},
   "outputs": [],
   "source": [
    "from sklearn.ensemble import AdaBoostClassifier\n",
    "from sklearn import datasets\n",
    "from sklearn.model_selection import train_test_split\n",
    "from sklearn import metrics"
   ]
  },
  {
   "cell_type": "code",
   "execution_count": 15,
   "id": "8ea9a683",
   "metadata": {},
   "outputs": [],
   "source": [
    "iris = datasets.load_iris()\n",
    "X = iris.data\n",
    "y = iris.target\n",
    "# print(X)\n",
    "# print(y)"
   ]
  },
  {
   "cell_type": "code",
   "execution_count": 9,
   "id": "d9295391",
   "metadata": {},
   "outputs": [],
   "source": [
    "X_train, X_test, y_train, y_test = train_test_split(X, y, test_size=0.2) "
   ]
  },
  {
   "cell_type": "code",
   "execution_count": 10,
   "id": "be8ddabd",
   "metadata": {},
   "outputs": [
    {
     "name": "stdout",
     "output_type": "stream",
     "text": [
      "Accuracy: 1.0\n"
     ]
    }
   ],
   "source": [
    "abc = AdaBoostClassifier(n_estimators=50, learning_rate=1)\n",
    "model = abc.fit(X_train, y_train)\n",
    "y_pred = model.predict(X_test)\n",
    "print(\"Accuracy:\", metrics.accuracy_score(y_test, y_pred))"
   ]
  },
  {
   "cell_type": "markdown",
   "id": "43b2b33b",
   "metadata": {},
   "source": [
    "# Gradient Boosting\n",
    "\n",
    "In gradient boosting, the models are short decision trees. And it is different from AdaBoost in that it simply tries to predict the error (calculated by the loss function) of the previous model. This makes it slow to learn, but it learns better: the model is more robust and stronger than the individual trees. We can use mean squared error for a regression task and logarithmic loss for a classification task. \n",
    "\n",
    "The learning rate controls how much of the error to be fitted for the next model. The lower the rate, the slower the models learn. The number of individual trees is also a hyper parameter. The more trees we add, the higher risk of overfitting. \n",
    "\n",
    "Let's consider the first model for input x and output y:\n",
    "\n",
    "$$ y = A_1 + (B_1 * x) + e_1 $$\n",
    "\n",
    "with $$ e_1 $$ is the residual. This $$ e_1 $$ would be to fit the second tree:\n",
    "\n",
    "$$ e_1 = A_2 + (B_2 * x) + e_2 $$\n",
    "\n",
    "and $$ e_2 = A_3 + (B_3 * x) + e_3 $$\n",
    "\n",
    "and so on. We can have hundreds of trees for a model. When we combine then, the combined model would be:\n",
    "\n",
    "$$ y = A_1 + A_2 + A_3 + B_1 * x + B_2 * x + B_3 * x + e_3 $$\n",
    "\n"
   ]
  },
  {
   "cell_type": "code",
   "execution_count": 1,
   "id": "f8e26f25",
   "metadata": {},
   "outputs": [],
   "source": [
    "# Import all relevant libraries\n",
    "from sklearn.ensemble import GradientBoostingClassifier\n",
    "import numpy as np\n",
    "import pandas as pd\n",
    "from sklearn.preprocessing import StandardScaler\n",
    "from sklearn.model_selection import train_test_split\n",
    "from sklearn.metrics import accuracy_score, confusion_matrix\n",
    "from sklearn import preprocessing\n",
    "import warnings\n",
    "warnings.filterwarnings(\"ignore\")"
   ]
  },
  {
   "cell_type": "code",
   "execution_count": 2,
   "id": "c34e7fa9",
   "metadata": {},
   "outputs": [
    {
     "data": {
      "text/html": [
       "<div>\n",
       "<style scoped>\n",
       "    .dataframe tbody tr th:only-of-type {\n",
       "        vertical-align: middle;\n",
       "    }\n",
       "\n",
       "    .dataframe tbody tr th {\n",
       "        vertical-align: top;\n",
       "    }\n",
       "\n",
       "    .dataframe thead th {\n",
       "        text-align: right;\n",
       "    }\n",
       "</style>\n",
       "<table border=\"1\" class=\"dataframe\">\n",
       "  <thead>\n",
       "    <tr style=\"text-align: right;\">\n",
       "      <th></th>\n",
       "      <th>Pregnancies</th>\n",
       "      <th>Glucose</th>\n",
       "      <th>BloodPressure</th>\n",
       "      <th>SkinThickness</th>\n",
       "      <th>Insulin</th>\n",
       "      <th>BMI</th>\n",
       "      <th>DiabetesPedigreeFunction</th>\n",
       "      <th>Age</th>\n",
       "      <th>Outcome</th>\n",
       "    </tr>\n",
       "  </thead>\n",
       "  <tbody>\n",
       "    <tr>\n",
       "      <th>0</th>\n",
       "      <td>6</td>\n",
       "      <td>148</td>\n",
       "      <td>72</td>\n",
       "      <td>35</td>\n",
       "      <td>0</td>\n",
       "      <td>33.6</td>\n",
       "      <td>0.627</td>\n",
       "      <td>50</td>\n",
       "      <td>1</td>\n",
       "    </tr>\n",
       "    <tr>\n",
       "      <th>1</th>\n",
       "      <td>1</td>\n",
       "      <td>85</td>\n",
       "      <td>66</td>\n",
       "      <td>29</td>\n",
       "      <td>0</td>\n",
       "      <td>26.6</td>\n",
       "      <td>0.351</td>\n",
       "      <td>31</td>\n",
       "      <td>0</td>\n",
       "    </tr>\n",
       "    <tr>\n",
       "      <th>2</th>\n",
       "      <td>8</td>\n",
       "      <td>183</td>\n",
       "      <td>64</td>\n",
       "      <td>0</td>\n",
       "      <td>0</td>\n",
       "      <td>23.3</td>\n",
       "      <td>0.672</td>\n",
       "      <td>32</td>\n",
       "      <td>1</td>\n",
       "    </tr>\n",
       "    <tr>\n",
       "      <th>3</th>\n",
       "      <td>1</td>\n",
       "      <td>89</td>\n",
       "      <td>66</td>\n",
       "      <td>23</td>\n",
       "      <td>94</td>\n",
       "      <td>28.1</td>\n",
       "      <td>0.167</td>\n",
       "      <td>21</td>\n",
       "      <td>0</td>\n",
       "    </tr>\n",
       "    <tr>\n",
       "      <th>4</th>\n",
       "      <td>0</td>\n",
       "      <td>137</td>\n",
       "      <td>40</td>\n",
       "      <td>35</td>\n",
       "      <td>168</td>\n",
       "      <td>43.1</td>\n",
       "      <td>2.288</td>\n",
       "      <td>33</td>\n",
       "      <td>1</td>\n",
       "    </tr>\n",
       "  </tbody>\n",
       "</table>\n",
       "</div>"
      ],
      "text/plain": [
       "   Pregnancies  Glucose  BloodPressure  SkinThickness  Insulin   BMI  \\\n",
       "0            6      148             72             35        0  33.6   \n",
       "1            1       85             66             29        0  26.6   \n",
       "2            8      183             64              0        0  23.3   \n",
       "3            1       89             66             23       94  28.1   \n",
       "4            0      137             40             35      168  43.1   \n",
       "\n",
       "   DiabetesPedigreeFunction  Age  Outcome  \n",
       "0                     0.627   50        1  \n",
       "1                     0.351   31        0  \n",
       "2                     0.672   32        1  \n",
       "3                     0.167   21        0  \n",
       "4                     2.288   33        1  "
      ]
     },
     "execution_count": 2,
     "metadata": {},
     "output_type": "execute_result"
    }
   ],
   "source": [
    "# Load the dataset \n",
    "pima = pd.read_csv('diabetes.csv') \n",
    "pima.head()"
   ]
  },
  {
   "cell_type": "code",
   "execution_count": 3,
   "id": "9b787c61",
   "metadata": {},
   "outputs": [],
   "source": [
    "# Split dataset into test and train data\n",
    "X_train, X_test, y_train, y_test = train_test_split(pima.drop('Outcome', axis=1),\n",
    "                                                    pima['Outcome'], test_size=0.2)\n",
    "\n",
    "# Scale the data\n",
    "scaler = preprocessing.StandardScaler().fit(X_train)\n",
    "X_train_transformed = scaler.transform(X_train)\n",
    "X_test_transformed = scaler.transform(X_test)"
   ]
  },
  {
   "cell_type": "code",
   "execution_count": 4,
   "id": "98a075cb",
   "metadata": {},
   "outputs": [
    {
     "data": {
      "text/html": [
       "<style>#sk-container-id-1 {color: black;background-color: white;}#sk-container-id-1 pre{padding: 0;}#sk-container-id-1 div.sk-toggleable {background-color: white;}#sk-container-id-1 label.sk-toggleable__label {cursor: pointer;display: block;width: 100%;margin-bottom: 0;padding: 0.3em;box-sizing: border-box;text-align: center;}#sk-container-id-1 label.sk-toggleable__label-arrow:before {content: \"▸\";float: left;margin-right: 0.25em;color: #696969;}#sk-container-id-1 label.sk-toggleable__label-arrow:hover:before {color: black;}#sk-container-id-1 div.sk-estimator:hover label.sk-toggleable__label-arrow:before {color: black;}#sk-container-id-1 div.sk-toggleable__content {max-height: 0;max-width: 0;overflow: hidden;text-align: left;background-color: #f0f8ff;}#sk-container-id-1 div.sk-toggleable__content pre {margin: 0.2em;color: black;border-radius: 0.25em;background-color: #f0f8ff;}#sk-container-id-1 input.sk-toggleable__control:checked~div.sk-toggleable__content {max-height: 200px;max-width: 100%;overflow: auto;}#sk-container-id-1 input.sk-toggleable__control:checked~label.sk-toggleable__label-arrow:before {content: \"▾\";}#sk-container-id-1 div.sk-estimator input.sk-toggleable__control:checked~label.sk-toggleable__label {background-color: #d4ebff;}#sk-container-id-1 div.sk-label input.sk-toggleable__control:checked~label.sk-toggleable__label {background-color: #d4ebff;}#sk-container-id-1 input.sk-hidden--visually {border: 0;clip: rect(1px 1px 1px 1px);clip: rect(1px, 1px, 1px, 1px);height: 1px;margin: -1px;overflow: hidden;padding: 0;position: absolute;width: 1px;}#sk-container-id-1 div.sk-estimator {font-family: monospace;background-color: #f0f8ff;border: 1px dotted black;border-radius: 0.25em;box-sizing: border-box;margin-bottom: 0.5em;}#sk-container-id-1 div.sk-estimator:hover {background-color: #d4ebff;}#sk-container-id-1 div.sk-parallel-item::after {content: \"\";width: 100%;border-bottom: 1px solid gray;flex-grow: 1;}#sk-container-id-1 div.sk-label:hover label.sk-toggleable__label {background-color: #d4ebff;}#sk-container-id-1 div.sk-serial::before {content: \"\";position: absolute;border-left: 1px solid gray;box-sizing: border-box;top: 0;bottom: 0;left: 50%;z-index: 0;}#sk-container-id-1 div.sk-serial {display: flex;flex-direction: column;align-items: center;background-color: white;padding-right: 0.2em;padding-left: 0.2em;position: relative;}#sk-container-id-1 div.sk-item {position: relative;z-index: 1;}#sk-container-id-1 div.sk-parallel {display: flex;align-items: stretch;justify-content: center;background-color: white;position: relative;}#sk-container-id-1 div.sk-item::before, #sk-container-id-1 div.sk-parallel-item::before {content: \"\";position: absolute;border-left: 1px solid gray;box-sizing: border-box;top: 0;bottom: 0;left: 50%;z-index: -1;}#sk-container-id-1 div.sk-parallel-item {display: flex;flex-direction: column;z-index: 1;position: relative;background-color: white;}#sk-container-id-1 div.sk-parallel-item:first-child::after {align-self: flex-end;width: 50%;}#sk-container-id-1 div.sk-parallel-item:last-child::after {align-self: flex-start;width: 50%;}#sk-container-id-1 div.sk-parallel-item:only-child::after {width: 0;}#sk-container-id-1 div.sk-dashed-wrapped {border: 1px dashed gray;margin: 0 0.4em 0.5em 0.4em;box-sizing: border-box;padding-bottom: 0.4em;background-color: white;}#sk-container-id-1 div.sk-label label {font-family: monospace;font-weight: bold;display: inline-block;line-height: 1.2em;}#sk-container-id-1 div.sk-label-container {text-align: center;}#sk-container-id-1 div.sk-container {/* jupyter's `normalize.less` sets `[hidden] { display: none; }` but bootstrap.min.css set `[hidden] { display: none !important; }` so we also need the `!important` here to be able to override the default hidden behavior on the sphinx rendered scikit-learn.org. See: https://github.com/scikit-learn/scikit-learn/issues/21755 */display: inline-block !important;position: relative;}#sk-container-id-1 div.sk-text-repr-fallback {display: none;}</style><div id=\"sk-container-id-1\" class=\"sk-top-container\"><div class=\"sk-text-repr-fallback\"><pre>GradientBoostingClassifier(learning_rate=0.05, max_features=5, n_estimators=500,\n",
       "                           random_state=100)</pre><b>In a Jupyter environment, please rerun this cell to show the HTML representation or trust the notebook. <br />On GitHub, the HTML representation is unable to render, please try loading this page with nbviewer.org.</b></div><div class=\"sk-container\" hidden><div class=\"sk-item\"><div class=\"sk-estimator sk-toggleable\"><input class=\"sk-toggleable__control sk-hidden--visually\" id=\"sk-estimator-id-1\" type=\"checkbox\" checked><label for=\"sk-estimator-id-1\" class=\"sk-toggleable__label sk-toggleable__label-arrow\">GradientBoostingClassifier</label><div class=\"sk-toggleable__content\"><pre>GradientBoostingClassifier(learning_rate=0.05, max_features=5, n_estimators=500,\n",
       "                           random_state=100)</pre></div></div></div></div></div>"
      ],
      "text/plain": [
       "GradientBoostingClassifier(learning_rate=0.05, max_features=5, n_estimators=500,\n",
       "                           random_state=100)"
      ]
     },
     "execution_count": 4,
     "metadata": {},
     "output_type": "execute_result"
    }
   ],
   "source": [
    "# Define Gradient Boosting Classifier with hyperparameters\n",
    "gbc=GradientBoostingClassifier(n_estimators=500,learning_rate=0.05,random_state=100,max_features=5 )\n",
    "# Fit train data to GBC\n",
    "gbc.fit(X_train_transformed, y_train)"
   ]
  },
  {
   "cell_type": "code",
   "execution_count": 5,
   "id": "10002433",
   "metadata": {},
   "outputs": [
    {
     "name": "stdout",
     "output_type": "stream",
     "text": [
      "[[83 15]\n",
      " [24 32]]\n"
     ]
    }
   ],
   "source": [
    "# Confusion matrix will give number of correct and incorrect classifications\n",
    "print(confusion_matrix(y_test, gbc.predict(X_test_transformed)))"
   ]
  },
  {
   "cell_type": "code",
   "execution_count": 6,
   "id": "cb0008b3",
   "metadata": {},
   "outputs": [
    {
     "name": "stdout",
     "output_type": "stream",
     "text": [
      "GBC accuracy is 0.75\n"
     ]
    }
   ],
   "source": [
    "# Accuracy of model\n",
    "print(\"GBC accuracy is %2.2f\" % accuracy_score(\n",
    "    y_test, gbc.predict(X_test_transformed)))"
   ]
  },
  {
   "cell_type": "markdown",
   "id": "3baad26b",
   "metadata": {},
   "source": [
    "# Stochastic Gradient Boosting\n",
    "\n",
    "SGB is a hybrid of the boosting and bagging approaches. At each iteration, a random sub sample of the dataset is chosen to fit a tree. SGB is also based on a steepest gradient algorithm which emphasizes the misclassified data that are close. Finally, at each iteration, they use small trees and the major voting to aggregate the prediction. SGB is robust to missing data and outliers. \n",
    "\n",
    "Consider the training sample $$ \\{y_i, x_i\\}_1^N $$. We need to find a function $$ H^*(x) $$ that maps x to y and at the same time minimize the loss function $$ L(y, H(x)) $$. SGB can approximate $$ H^*(x) $$:\n",
    "\n",
    "$$ H(x) = \\sum_{m=0}^M \\beta_m h(x; a_m) $$\n",
    "\n",
    "where $$ h(x;a_m) $$ is the base model (which can be a tree), $$ a_m $$ is the parameters and $$ \\beta_m $$ is an expansion coefficient. $$ \\beta $$ and a would be fitted to min the loss function:\n",
    "\n",
    "$$ (\\beta_m, a_m) = argmin_{\\beta,a} \\sum_{i=1}^N L(y_i, H_{m-1} (x_i) + \\beta h(x_i; a)) $$ \n",
    "\n",
    "and $$ H_m(x) = H_{m-1} (x) + \\beta_m h(x;a_m) $$\n",
    "\n",
    "To solve for $$ (\\beta_m, a_m) $$, SGB fits h(x;a) by least squares:\n",
    "\n",
    "$$ a_m = argmin_{a,\\rho} \\sum_{i=1}^N {[y_{im} - \\rho h(x_i;a)]}^2 $$\n",
    "\n",
    "where $$ y_{im} = - {[ \\frac{\\delta L(y_i, H(x_i))}{\\delta H(x_i)} ]}_{H(x) = H_{m-1}(x)} $$\n",
    "\n",
    "Then we can estimate $$ \\beta_m = argmin_{\\beta} \\sum_{i=1}^N L(y_i, H_{m-1}(x_i) + \\beta h(x_i;a_m)) $$\n",
    "\n",
    "To improve performance, at each iteration SGB incorporates randomness to select a random permutation (without replacement) to fit the regression tree. Tuning the parameters include tuning M - the total number of trees (for example, from 50 up to 700), the learning rate - which decides how much loss is fitted for the next tree (for example, 0.01, 0.05, 0.1, 0.5), and L - the depth of each tree (for example, 3, 5, 7, 9).\n",
    "\n",
    "To search for the best combination of parameters, we can use 10 fold cross validation in which the training set is divided into 10 groups, nine would be for fitting and the other for testing. \n",
    "\n",
    "# XGBoost\n",
    "XGBoost stands for Extreme Gradient Boosting, and is a scalable machine learning system for tree boosting. It is available as an open source package. The influence of XGBoost in machine learning's field is quite large. Among the 29 challenge winning solutions at Kaggle's 2015, 17 solutions used XGBoost. Among those, 8 solely used XGBoost, most others combined XGBoost with neural net ensembles.\n",
    "\n",
    "A generic XGBoost algorithm is:\n",
    "\n",
    "- Initialize model with constant: $$ f_{(0)} (x) = argmin_{\\theta} sum_{i=1}^N L(y_i, \\theta) $$\n",
    "- From m=1 to M:\n",
    "    - Compute the gradients and Hessians:\n",
    "    $$ g_m(x_i) = {[ \\frac{\\delta L(y_i, f(x_i))}{\\delta f(x_i)} ]} $$\n",
    "    $$ h_m(x_i) = {[ \\frac{\\delta^2 L(y_i, f(x_i))}{\\delta f(x_i)^2} ]} $$\n",
    "    - Fit a base learner (weak learner - tree) using the training set $$ \\{ x_i, - \\frac{g_m(x_i)}{h_m(x_i)}_{i=1}^N $$ so that:\n",
    "    $$ \\phi_m = argmin \\sum_{i=1}^N \\frac{1}{2} h_m(x_i) {[ - \\frac{g_m(x_i)}{h_m(x_i)} - \\phi(x_i) ]}^2 $$\n",
    "    and $$ f_m(x) = \\alpha \\phi_m(x) $$\n",
    "    - Update the model: $$ f_{(m)} (x) = f_{(m-1)} (x) + f_m (x) $$\n",
    "- Output $$ f(x) = f_{(M)}(x) = \\sum_{m=0}^M f_m(x) $$"
   ]
  }
 ],
 "metadata": {
  "kernelspec": {
   "display_name": "Python 3 (ipykernel)",
   "language": "python",
   "name": "python3"
  },
  "language_info": {
   "codemirror_mode": {
    "name": "ipython",
    "version": 3
   },
   "file_extension": ".py",
   "mimetype": "text/x-python",
   "name": "python",
   "nbconvert_exporter": "python",
   "pygments_lexer": "ipython3",
   "version": "3.9.13"
  }
 },
 "nbformat": 4,
 "nbformat_minor": 5
}
