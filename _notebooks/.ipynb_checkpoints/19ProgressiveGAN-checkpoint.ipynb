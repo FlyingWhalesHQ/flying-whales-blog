{
 "cells": [
  {
   "cell_type": "markdown",
   "id": "a8061b00",
   "metadata": {},
   "source": [
    "---\n",
    "layout: post\n",
    "title:  \"ProgressiveGAN and styleGAN\"\n",
    "date:   2023-03-28 10:14:54 +0700\n",
    "categories: jekyll update\n",
    "---\n",
    "\n",
    "# Introduction\n",
    "\n",
    "ProgressiveGAN starts training with a generator and discriminator for images of size 4x4, then gradually add layers into the generator and discriminator until the image size those networks can handle is up to 1024x1024. This is a way to generate large images reliably. The final generator and discriminator are composite functions: $$ G = G_1 \\circ G_2 \\circ G_3 ... \\circ G_N $$ and $$ D = D_1 \\circ D_2 ... \\circ D_N $$\n",
    "\n",
    "This procedure allows the network to learn the big picture, then to focus on finer scale detail, instead of learning all scales at once. During the training, the generator and discriminator are mirror images of each other (that always grow together). All layers are trainable and after each addition of layer, there is a fading in process to smooth in the new layer.\n",
    "\n",
    "The fading in process works as follows:\n",
    "\n",
    "<img width=\"619\" alt=\"Screen Shot 2023-03-28 at 13 18 47\" src=\"https://user-images.githubusercontent.com/7457301/228145911-c32e2ac8-b0b3-4a36-89fb-77ca49f75d3e.png\">\n",
    "\n",
    "The output after an x layer is a residual block, it gets to skip the 2x layer. Then it is convexly combined with the output of the 2x layer, in RGB.\n",
    "\n",
    "\n",
    "# Code example"
   ]
  },
  {
   "cell_type": "code",
   "execution_count": null,
   "id": "77721bd6",
   "metadata": {},
   "outputs": [],
   "source": [
    "import tensorflow as tf\n",
    "tf.random.set_seed(0)\n",
    "import imageio\n",
    "import tensorflow_hub as hub\n",
    "\n",
    "progan = hub.load(\"https://tfhub.dev/google/progan-128/1\").signatures['default']\n",
    "\n",
    "plt.imshow(np.array(progan(tf.random.normal([latent_dim]))['default'])[0])\n",
    "\n",
    "fig = plt.figure()\n",
    "figsize=(16,16)\n",
    "for i in range(4):\n",
    "  plt.subplot(2,2,i+1)\n",
    "  plt.imshow(np.array(progan(tf.random.normal([latent_dim]))['default'])[0])\n",
    "plt.savefig('image')\n",
    "plt.show()"
   ]
  },
  {
   "cell_type": "markdown",
   "id": "e6e7f3f4",
   "metadata": {},
   "source": [
    "![image](https://user-images.githubusercontent.com/7457301/228139892-ff6e1152-de9c-4105-9f6b-38b825057c3c.png)\n",
    "\n",
    "![image-2](https://user-images.githubusercontent.com/7457301/228141364-65acae32-f061-429d-b7ac-8f8237d7c539.png)\n"
   ]
  },
  {
   "cell_type": "code",
   "execution_count": null,
   "id": "43d20da2",
   "metadata": {},
   "outputs": [],
   "source": [
    "def animate(images):\n",
    "  images = np.array(images)\n",
    "  converted_images = np.clip(images * 255, 0, 255).astype(np.uint8)\n",
    "  imageio.mimsave('./animation.gif', converted_images)\n",
    "  return embed.embed_file('./animation.gif')\n",
    "\n",
    "def interpolate_between_vectors():\n",
    "  v1 = tf.random.normal([latent_dim])\n",
    "  v2 = tf.random.normal([latent_dim])\n",
    "    \n",
    "  # Creates a tensor with 25 steps of interpolation between v1 and v2.\n",
    "  vectors = interpolate_hypersphere(v1, v2, 50)\n",
    "\n",
    "  # Uses module to generate images from the latent space.\n",
    "  interpolated_images = progan(vectors)['default']\n",
    "\n",
    "  return interpolated_images\n",
    "\n",
    "interpolated_images = interpolate_between_vectors()\n",
    "animate(interpolated_images)"
   ]
  },
  {
   "cell_type": "markdown",
   "id": "49e8637f",
   "metadata": {},
   "source": [
    "\n",
    "![animation](https://user-images.githubusercontent.com/7457301/228141854-d66b6b31-f535-4981-b8e7-1424965ab077.gif)"
   ]
  },
  {
   "cell_type": "code",
   "execution_count": null,
   "id": "a64ca573",
   "metadata": {},
   "outputs": [],
   "source": []
  }
 ],
 "metadata": {
  "kernelspec": {
   "display_name": "Python 3 (ipykernel)",
   "language": "python",
   "name": "python3"
  },
  "language_info": {
   "codemirror_mode": {
    "name": "ipython",
    "version": 3
   },
   "file_extension": ".py",
   "mimetype": "text/x-python",
   "name": "python",
   "nbconvert_exporter": "python",
   "pygments_lexer": "ipython3",
   "version": "3.9.13"
  }
 },
 "nbformat": 4,
 "nbformat_minor": 5
}
