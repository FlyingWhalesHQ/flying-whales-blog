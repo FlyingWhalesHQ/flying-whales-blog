{
 "cells": [
  {
   "cell_type": "markdown",
   "id": "49520b74",
   "metadata": {},
   "source": [
    "---\n",
    "layout: post\n",
    "title:  \"Collaborative Filtering\"\n",
    "date:   2023-05-30 10:14:54 +0700\n",
    "categories: MachineLearning\n",
    "---\n",
    "\n",
    "# Intro\n",
    "\n",
    "Collaborative filtering is a technique that is mainly used in recommendation system to suggest user's preferences by collecting data from a similar group of users. It assumes that if those people have similar preference and decisions in the past, so will they in the near future. Use case: Amazon develops item-to-item collaborative filtering in their recommendation system.\n",
    "\n",
    "# Memory based\n",
    "\n",
    "The memory based technique is to find users similar to the current user in the database and calculate the new rating based in the ratings of similar users found.\n",
    "\n",
    "## Euclidean distance\n",
    "\n",
    "## Cosine distance\n",
    "Based on the angle.\n",
    "## Centered cosine distance\n",
    "Factor out the average ratings.\n",
    "\n",
    "## Cosine similarity\n",
    "\n",
    "\n",
    "Choose a list of top 5-10 most similar users, take average of their ratings. $$ R_U = \\frac{\\sum_{u=1}^n R_u}{n} $$\n",
    "This is to take all the top similar users equally.\n",
    "Or weigh them accordingly: $$ R_U = \\frac{\\sum_{u=1}^n R_u * W_u}{\\sum_{u=1}^n W_u} $$. The obvious weights are the similarity index for each user. \n",
    "\n",
    "## User based\n",
    "\n",
    "## Item based\n",
    "Pick out a list of top 5-10 most similar items to the current one, rated by the user. Take their average or weighted average to indicate its rating.\n",
    "\n",
    "This is developed by Amazon and can be used when there are more users than items, since it is more stable and faster. It is not very suited for datasets with browsing or entertainment related items.\n",
    "\n",
    "# Model based\n",
    "\n",
    "First to reduce the large but sparse user item matrix by matrix factorization. Matrix factorization is to breaking down a large matrix into a product of smaller ones. A = X * Y. For example a matrix of m users * n items can be factorized into the product of user matrix m * p features and item matrix n * p features. P are called latent features which means they are hidden characteristics of the user and the items.\n",
    "\n",
    "## SVD \n",
    "\n",
    "One of the popular algorithm to factorize matrix into meaningful components is the singular value decomposition algorithm.\n",
    "\n",
    "## PCA\n",
    "\n",
    "## NMF\n",
    "\n",
    "## Neural network (auto encoder)\n",
    "\n"
   ]
  },
  {
   "cell_type": "code",
   "execution_count": null,
   "id": "cbfebe9d",
   "metadata": {},
   "outputs": [],
   "source": []
  }
 ],
 "metadata": {
  "kernelspec": {
   "display_name": "Python 3 (ipykernel)",
   "language": "python",
   "name": "python3"
  },
  "language_info": {
   "codemirror_mode": {
    "name": "ipython",
    "version": 3
   },
   "file_extension": ".py",
   "mimetype": "text/x-python",
   "name": "python",
   "nbconvert_exporter": "python",
   "pygments_lexer": "ipython3",
   "version": "3.9.13"
  }
 },
 "nbformat": 4,
 "nbformat_minor": 5
}
