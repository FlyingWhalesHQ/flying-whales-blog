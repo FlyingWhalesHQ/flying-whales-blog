{
 "cells": [
  {
   "attachments": {},
   "cell_type": "markdown",
   "id": "333d0848",
   "metadata": {},
   "source": [
    "---\n",
    "layout: post\n",
    "title:  \"Reinforcement Learning: Q-learning and social cooperation\"\n",
    "date:   2022-08-13 10:14:54 +0700\n",
    "categories: MachineLearning\n",
    "---\n",
    "\n",
    "# Introduction\n",
    "\n",
    "In the Markov decision process (MDP), we know both the transitions and the reward functions. In reinforcement learning (RL), we know neither. We still try to maximize expected utility though. This can be called online learning: when data arrives incrementally and we learn on the go. In other words, reinforcement learning is a setting where agents do some actions, receive feedback about the reward and new state it is in. That's how it learns about the environment and updates its parameters. Here is the reinforcement learning algorithm in general:\n",
    "\n",
    "For t = 1,2,3..\n",
    "\n",
    "- Choose action $$ a_t = \\pi_a(s_{t-1}) $$\n",
    "\n",
    "- Get reward $$ r_t $$ and see new state $$ s_t $$\n",
    "\n",
    "- Update parameters\n",
    "\n",
    "We would firstly examine how to update params and then how to choose actions.\n",
    "\n",
    "## Params update (learning)\n",
    "\n",
    "There are two ways to go in this settings: either we estimate a markov decision process (its probabilities and rewards) and then compute the optimal policy or we estimate the optimal policy directly. The first is called model based learning and the latter is called model free learning.\n",
    "\n",
    "### Model based\n",
    "\n",
    "In model based iteration, we estimate the transition as follows:\n",
    "\n",
    "$$ \\hat{P}(s,a,s') = \\frac{\\text{number of times (s,a,s') occurs}}{ \\text{number of times (s,a) occur}} $$\n",
    "\n",
    "If something never happens before causing the estimate to be $$ \\frac{0}{0} $$ just need to set it to $$ \\frac{1}{\\text{total number of states}} $$ so it is equally probable like any other states.\n",
    "\n",
    "And the rewards could be estimated by averaging the observed reward in state s:\n",
    "\n",
    "$$ \\hat{R} (s,a,s') = \\text{r in (s,a,r,s')} $$ \n",
    "\n",
    "Now we can use those estimates above to solve the MDP through policy or value evaluation. In general, the algorithm is executed as follows:\n",
    "\n",
    "- Initialize random policy $$ \\pi $$\n",
    "\n",
    "- Run $$ \\pi $$ for a number of times\n",
    "\n",
    "- Using the accumulated experience in the MDP, estimate P and R\n",
    "\n",
    "- Use value iteration to estimate V\n",
    "\n",
    "- Update $$ \\pi $$ using a greedy manner (choose what is simply best at that point)\n",
    "\n",
    "### Model free\n",
    "\n",
    "In model free iteration, we estimate $$ V^* $$ (which is related to $$ Q_{\\pi}(s,a) $$) directly. Imagine when we don't know P and R, we are in state s, and we take action a, then we end up in state s' with reward r'. Given that, $$ Q_{\\pi}(s,a) $$ is the expected utility starting at s, taking action a and then follow policy $$ \\pi $$. The utility is simply the discounted cashflow from that point t. With that settings, the estimated expected utility of policy $$ \\pi $$ at s would be the average of utility at t $$ u_t $$. $$ \\hat{Q}_{\\pi}(s,a) $$ can be estimated to be the convex combination of itself and u with (s,a,u): $$ \\hat{Q}_{\\pi} (s,a) \\leftarrow (1 - \\alpha) \\hat{Q}_{\\pi} (s,a) + \\alpha u $$ with $$ \\alpha = \\frac{1}{1+(\\text{number of updates to (s,a)})} $$\n",
    "\n",
    "This is equivalent to:\n",
    "\n",
    "$$ \\Leftrightarrow \\hat{Q}_{\\pi}(s,a) \\leftarrow \\hat{Q}_{\\pi}(s,a) - \\alpha (\\hat{Q}_{\\pi}(s,a) - u) $$ \n",
    "\n",
    "This looks like the update rule for a linear regression using (stochastic) gradient descent. The objective is to least the squares: $$ (\\hat{Q}_{\\pi}(s,a) - u)^2 $$. $$ \\hat{Q}_{\\pi}(s,a) $$ can be treated as the prediction and u is the ground truth, this regression would be updated as data coming in (hence the name online learning).\n",
    "\n",
    "That's how we get estimation of $$ Q_{\\pi}(s,a) $$, model free. We can estimate $$ Q_{opt} $$ model free, too, with Q learning.\n",
    "\n",
    "Here is the Bellman equation:\n",
    "\n",
    "$$ Q_{opt}(s,a) = \\sum_{s'}P(s,a,s'){[R(s,a,s') + \\gamma V_{opt}(s')]} $$\n",
    "\n",
    "For each (s,a,r,s'):\n",
    "\n",
    "$$ \\hat{Q}_{opt}(s,a) \\leftarrow (1-\\alpha)\\hat{Q}_{opt}(s,a) + \\alpha(r+ \\gamma \\hat{V}_{opt}(s') $$\n",
    "\n",
    "with $$ \\hat{V}_{opt}(s') = max_{a' \\in A(s')} \\hat{Q}_{opt}(s',a') $$\n",
    "\n",
    "## Action choosing\n",
    "\n",
    "Apart from learning, there is something we need to do in reinforcement learning: given that we start off fresh and know nothing about the environment, how do we go about exploring the enviroment? One way to do that is to explicitly explore (s,a), another is to explore (s',a') nearby and generalizing. \n",
    "\n",
    "### Explore one state at a time\n",
    "\n",
    "Let's start to discuss some ways of choosing action policies. After we have estimated $$ \\hat{Q}_{opt} (s,a) $$, we find $$ \\pi_a(s) $$ such that: $$ \\pi_a(s) = arg max_{a \\in A} \\hat{Q}_{opt}(s,a) $$. This is when we are greedy, we choose what is best immediately and there is no exploration at all. The opposite of this would be choosing randomly from the set of actions, this would be fully explorative. Without guidance, the average utility of a full explorative policy would be low. To keep a balance between those two extremes, we adopt something called epsilon-greedy algorithm in which we are greedy (following the first strategy: choose the immediate best), but not always: for some epsilon times, we randomize over the action set. Notice that we can calibrate epsilon and let it change. One nominating example about reinforcement learning is that it is the way the real world works, and in order to navigate it, when we are young, we let epsilon be 1 and when we get older, we should keep it small.\n",
    "\n",
    "### Generalize\n",
    "\n",
    "When the state space is big, it is difficult to explore it in a reasonable amount of time. Again, we can reframe this Q learning as a linear regression problem as above, in which the update rule is:\n",
    "\n",
    "$$ \\hat{Q}_{opt}(s,a) \\leftarrow \\hat{Q}_{opt}(s,a) - \\alpha {[\\hat{Q}_{opt}(s,a) - (r + \\gamma \\hat{V}_{opt}(s')]} $$\n",
    "\n",
    "Now we would add parameters so as to generalize our findings better. For example, in state x, we take action y, and get high rewards, there should be a way for the model to keep that information, and behave similarly in a similar states. As in machine learning, we define (s,a) to be feature with weights $$ \\theta $$: $$ \\hat{Q}_{opt}(s,a;\\theta) = \\theta \\cdot \\phi(s,a) $$. This is the objective function to optimize: $$ (\\hat{Q}_{opt}(s,a;\\theta) - (r + \\gamma \\hat{V}_{opt}(s')))^2 $$ (which translates into English as the difference between the estimated value and the real rewards that we get in each state, $$ \\hat{Q}_{opt}(s,a;\\theta) $$ is the prediction and $$ (r + \\gamma \\hat{V}_{opt}(s')) $$ is the target). We minimize this error and comes up with the following weight updates:\n",
    "\n",
    "$$ \\theta \\leftarrow \\theta - \\alpha{[ \\hat{Q}_{opt}(s,a;\\theta) - (r + \\gamma \\hat{V}_{opt}(s')) ]} \\phi(s,a) $$\n",
    "\n",
    "# Code example\n",
    "\n",
    "Let's consider an example of Q-learning using a graph for the analogy of a social network. We use the game Prisoner's Dilemma game in game theory to represent social cooperation in society. Starting from node 0, I need to go to node 7. Each node is a person with a level of cooperation. If we cooperate well we both receive 3 points, if we both try to betray the other we both get 2 (which is smaller than 3). If one person cooperates and the other defects, the defector gets 4 points and the cooperator gets 1 points. Naturally if I get high points, my level of cooperation increases, and when I loses, my level of cooperation decreases faster. Apart from the game to play at each node, the Q-learning algorithm is as usual: we approximate the Q-value at each state to be the immediate reward plus the expectation of future reward (since we don't know the future, the algorithm uses the past value of the reward actually). Then we add the payoff from the social game we play with each person in each node to the future reward, as if the psychology of social cooperation affects our optimal value of this total reality. As a result, Q-learning chooses the optimal part to be 0-1-6-7 most of the time. Some other time it chooses 0-1-2-7. It is so because node 2 has very low cooperation level (0.1), node 6 has much higher level of cooperation (0.8). We also accumulate max value of Q and the payoff from the game over time to calculate a number that represent the optimal value of the entire social network. In this case, it is about 60. This scoring allows us to compare among social networks.\n"
   ]
  },
  {
   "cell_type": "code",
   "execution_count": 1,
   "id": "43e81451",
   "metadata": {},
   "outputs": [],
   "source": [
    "import numpy as np\n",
    "import random\n",
    "\n",
    "payoffs = [[[3,3],[1,4]],[[4,1],[2,2]]]"
   ]
  },
  {
   "cell_type": "code",
   "execution_count": 2,
   "id": "c7a6375c",
   "metadata": {},
   "outputs": [
    {
     "data": {
      "image/png": "[encoded data removed]",
      "text/plain": [
       "<Figure size 640x480 with 1 Axes>"
      ]
     },
     "metadata": {},
     "output_type": "display_data"
    }
   ],
   "source": [
    "import pylab as plt\n",
    "# map cell to cell, add circular cell to goal point\n",
    "points_list = [(0,1), (1,5), (5,6), (5,4), (1,2), (1,6), (2,7), (6,2),(6,3),(6,7),(3,7)]\n",
    "\n",
    "c = [0.8, 0.7, 0.1,0.4,0.7,0.4,0.8,0.9] # cooperation level of each node\n",
    "\n",
    "goal = 7\n",
    "\n",
    "import networkx as nx\n",
    "G=nx.Graph()\n",
    "G.add_edges_from(points_list)\n",
    "pos = nx.spring_layout(G)\n",
    "nx.draw_networkx_nodes(G,pos)\n",
    "nx.draw_networkx_edges(G,pos)\n",
    "nx.draw_networkx_labels(G,pos)\n",
    "plt.show()\n",
    "\n",
    "# idea: each connection has a strength"
   ]
  },
  {
   "cell_type": "markdown",
   "id": "81af0f37",
   "metadata": {},
   "source": [
    "![13ReinforcementLearning_2_0](https://user-images.githubusercontent.com/7457301/225057406-03935350-4d5d-437d-bcfa-48f716ab88c3.png)"
   ]
  },
  {
   "cell_type": "code",
   "execution_count": 3,
   "id": "c86d2064",
   "metadata": {},
   "outputs": [
    {
     "name": "stdout",
     "output_type": "stream",
     "text": [
      "(0, 1)\n",
      "(1, 5)\n",
      "(5, 6)\n",
      "(5, 4)\n",
      "(1, 2)\n",
      "(1, 6)\n",
      "(2, 7)\n",
      "(6, 2)\n",
      "(6, 3)\n",
      "(6, 7)\n",
      "(3, 7)\n"
     ]
    },
    {
     "data": {
      "text/plain": [
       "matrix([[-1.,  0., -1., -1., -1., -1., -1., -1.],\n",
       "        [ 0., -1.,  0., -1., -1.,  0.,  0., -1.],\n",
       "        [-1.,  0., -1., -1., -1., -1.,  0., 10.],\n",
       "        [-1., -1., -1., -1., -1., -1.,  0., 10.],\n",
       "        [-1., -1., -1., -1., -1.,  0., -1., -1.],\n",
       "        [-1.,  0., -1., -1.,  0., -1.,  0., -1.],\n",
       "        [-1.,  0.,  0.,  0., -1.,  0., -1., 10.],\n",
       "        [-1., -1.,  0.,  0., -1., -1.,  0., 10.]])"
      ]
     },
     "execution_count": 3,
     "metadata": {},
     "output_type": "execute_result"
    }
   ],
   "source": [
    "# how many points in graph? x points\n",
    "MATRIX_SIZE = 8\n",
    "\n",
    "# create matrix x*y\n",
    "R = np.matrix(np.ones(shape=(MATRIX_SIZE, MATRIX_SIZE)))\n",
    "R *= -1\n",
    "# assign zeros to paths and 10 to goal-reaching point\n",
    "for point in points_list:\n",
    "    print(point)\n",
    "    if point[1] == goal:\n",
    "        R[point]=10\n",
    "    else:\n",
    "        R[point] = 0\n",
    "\n",
    "    if point[0] == goal:\n",
    "        R[point[::-1]] = 10\n",
    "    else:\n",
    "        # reverse of point\n",
    "        R[point[::-1]]= 0\n",
    "    \n",
    "# add goal point round trip\n",
    "R[goal,goal]= 10\n",
    "R"
   ]
  },
  {
   "cell_type": "code",
   "execution_count": 4,
   "id": "7c0433bc",
   "metadata": {},
   "outputs": [],
   "source": [
    "def play(player_cooperation_level, opponent_cooperation_level):\n",
    "    player_random_number = random.random()\n",
    "    opponent_random_number = random.random()\n",
    "    if player_random_number < player_cooperation_level:\n",
    "        player_action = 0\n",
    "    else:\n",
    "        player_action = 1\n",
    "    if opponent_random_number < opponent_cooperation_level:\n",
    "        opponent_action = 0\n",
    "    else:\n",
    "        opponent_action = 1\n",
    "    return payoffs[player_action][opponent_action]\n",
    "def available_next_steps(step):\n",
    "    current_step_row = R[step,]\n",
    "    av_act = np.where(current_step_row >= 0)[1]\n",
    "    return av_act\n",
    "def sample_next_step(available_steps_range):\n",
    "    next_step = int(np.random.choice(available_steps,1))\n",
    "    return next_step\n",
    "def update_Q(current_step, next_step, gamma):\n",
    "    max_index = np.where(Q[next_step,] == np.max(Q[next_step,]))[1]\n",
    "    if max_index.shape[0] > 1:\n",
    "        max_index = int(np.random.choice(max_index, size = 1))\n",
    "    else:\n",
    "        max_index = int(max_index)\n",
    "    max_value = Q[next_step, max_index]\n",
    "#     print(max_value)\n",
    "    Q[current_step, next_step] = R[current_step, next_step] + gamma * (max_value + player_scores[-1])\n",
    "    return np.max(Q)"
   ]
  },
  {
   "cell_type": "code",
   "execution_count": 5,
   "id": "19c3ff9e",
   "metadata": {},
   "outputs": [
    {
     "data": {
      "text/plain": [
       "[1.8]"
      ]
     },
     "execution_count": 5,
     "metadata": {},
     "output_type": "execute_result"
    }
   ],
   "source": [
    "Q = np.matrix(np.zeros([MATRIX_SIZE,MATRIX_SIZE]))\n",
    "gamma = 0.8 # discount\n",
    "initial_step = 0\n",
    "\n",
    "initial_opponent_cooperation_level = c[initial_step]\n",
    "initial_player_cooperation_level = 0.9\n",
    "player_cooperation_levels = []\n",
    "player_scores = []\n",
    "society_scores = []\n",
    "scores = []\n",
    "\n",
    "player_cooperation_level = initial_player_cooperation_level\n",
    "opponent_cooperation_level=initial_opponent_cooperation_level\n",
    "\n",
    "pay = play(player_cooperation_level, opponent_cooperation_level)\n",
    "player_scores.append(pay[0])\n",
    "society_scores.append(pay[1])\n",
    "\n",
    "# current_step=next_step\n",
    "available_steps = available_next_steps(initial_step) \n",
    "next_step = sample_next_step(available_steps)\n",
    "\n",
    "score = update_Q(initial_step, next_step, gamma) + player_scores[-1]\n",
    "scores.append(score)\n",
    "scores"
   ]
  },
  {
   "cell_type": "code",
   "execution_count": 6,
   "id": "f869282a",
   "metadata": {},
   "outputs": [],
   "source": [
    "for i in range(1000):\n",
    "    opponent_cooperation_level = c[next_step]\n",
    "    if player_scores[-1] <= 2:\n",
    "        additional_cooperation_level = -0.0001*player_scores[-1]\n",
    "    else:\n",
    "        additional_cooperation_level = 0.00001*player_scores[-1]\n",
    "    player_cooperation_level = player_cooperation_level + additional_cooperation_level\n",
    "#     print(i,'player cooperation level', player_cooperation_level)\n",
    "    player_cooperation_levels.append(player_cooperation_level)\n",
    "    \n",
    "    pay = play(player_cooperation_level, opponent_cooperation_level)\n",
    "    player_scores.append(pay[0])\n",
    "    society_scores.append(pay[1])\n",
    "#     print(i, 'player scores',player_scores)\n",
    "\n",
    "    current_step = next_step\n",
    "    available_steps = available_next_steps(current_step) \n",
    "    next_step = sample_next_step(available_steps)\n",
    "\n",
    "    score = update_Q(current_step, next_step, gamma) + player_scores[-1]\n",
    "    scores.append(score)\n",
    "#     print(i,'scores',scores)"
   ]
  },
  {
   "cell_type": "code",
   "execution_count": 7,
   "id": "88c2a6e2",
   "metadata": {},
   "outputs": [
    {
     "name": "stdout",
     "output_type": "stream",
     "text": [
      "Trained Q matrix:\n",
      "[[  0.          71.78565327   0.           0.           0.\n",
      "    0.           0.           0.        ]\n",
      " [ 61.1957742    0.          79.9918481    0.           0.\n",
      "   67.96817167  83.76725158   0.        ]\n",
      " [  0.          69.27415222   0.           0.           0.\n",
      "    0.          81.25575053  93.71105749]\n",
      " [  0.           0.           0.           0.           0.\n",
      "    0.          81.25575053  95.9480317 ]\n",
      " [  0.           0.           0.           0.           0.\n",
      "   69.59000796   0.           0.        ]\n",
      " [  0.          70.78105285   0.           0.          56.02361651\n",
      "    0.          81.25575053   0.        ]\n",
      " [  0.          72.03680338  76.22459652  82.76265116   0.\n",
      "   68.77185201   0.         100.        ]\n",
      " [  0.           0.          80.75345032  81.78142748   0.\n",
      "    0.          83.76725158  96.22255855]]\n"
     ]
    }
   ],
   "source": [
    "print(\"Trained Q matrix:\")\n",
    "print(Q/np.max(Q)*100)"
   ]
  },
  {
   "cell_type": "code",
   "execution_count": 8,
   "id": "0b9fef68",
   "metadata": {},
   "outputs": [
    {
     "name": "stdout",
     "output_type": "stream",
     "text": [
      "Most efficient path:\n",
      "[0, 1, 6, 7]\n"
     ]
    },
    {
     "data": {
      "image/png": "[encoded data removed]",
      "text/plain": [
       "<Figure size 640x480 with 1 Axes>"
      ]
     },
     "metadata": {},
     "output_type": "display_data"
    }
   ],
   "source": [
    "# Testing\n",
    "current_state = 0\n",
    "steps = [current_state]\n",
    "\n",
    "while current_state != 7:\n",
    "\n",
    "    next_step_index = np.where(Q[current_state,] == np.max(Q[current_state,]))[1]\n",
    "    \n",
    "    if next_step_index.shape[0] > 1:\n",
    "        next_step_index = int(np.random.choice(next_step_index, size = 1))\n",
    "    else:\n",
    "        next_step_index = int(next_step_index)\n",
    "    \n",
    "    steps.append(next_step_index)\n",
    "    current_state = next_step_index\n",
    "\n",
    "print(\"Most efficient path:\")\n",
    "print(steps)\n",
    "\n",
    "plt.plot(scores)\n",
    "plt.show()"
   ]
  },
  {
   "cell_type": "markdown",
   "id": "ef8bfeb9",
   "metadata": {},
   "source": [
    "![13ReinforcementLearning_8_1](https://user-images.githubusercontent.com/7457301/225057426-492c2dd6-52f5-4354-a195-1692a91a1b0e.png)"
   ]
  },
  {
   "cell_type": "code",
   "execution_count": 9,
   "id": "eeec4429",
   "metadata": {},
   "outputs": [
    {
     "data": {
      "text/plain": [
       "0.8769499999999931"
      ]
     },
     "execution_count": 9,
     "metadata": {},
     "output_type": "execute_result"
    }
   ],
   "source": [
    "player_cooperation_levels[-1]"
   ]
  }
 ],
 "metadata": {
  "kernelspec": {
   "display_name": "Python 3",
   "language": "python",
   "name": "python3"
  },
  "language_info": {
   "codemirror_mode": {
    "name": "ipython",
    "version": 3
   },
   "file_extension": ".py",
   "mimetype": "text/x-python",
   "name": "python",
   "nbconvert_exporter": "python",
   "pygments_lexer": "ipython3",
   "version": "3.9.6"
  },
  "vscode": {
   "interpreter": {
    "hash": "31f2aee4e71d21fbe5cf8b01ff0e069b9275f58929596ceb00d14d90e3e16cd6"
   }
  }
 },
 "nbformat": 4,
 "nbformat_minor": 5
}
