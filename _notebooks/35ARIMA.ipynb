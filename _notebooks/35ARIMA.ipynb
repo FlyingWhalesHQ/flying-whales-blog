{
 "cells": [
  {
   "cell_type": "markdown",
   "id": "3abdd056",
   "metadata": {},
   "source": [
    "---\n",
    "layout: post\n",
    "title:  \"Time series: ARIMA\"\n",
    "date:   2023-05-19 10:14:54 +0700\n",
    "categories: MachineLearning\n",
    "---\n",
    "\n",
    "# TOC\n",
    "\n",
    "# Time series\n",
    "\n",
    "A time series is a series of data points that are measured in sequential order over an interval of time. We would study the series to infer what has happened and maybe even forecast what would happen. Our approach is to assume that there is an underlying process generating those data points according to some statistical distribution. Hence those data points are realisation of random variables. By that nature, we can also call a time series a discrete time stochastic process.\n",
    "\n",
    "Examples of time series include the stock price or sunspot appearance.\n",
    "\n",
    "There are features of time series that we should get acquainted with: trend, seasonality and serial dependence. A trend is a consistent directional movement in a time series. If there is an underlying rationale for the trend, it is deterministic, otherwise it is stochastic. Seasonality is a feature that shows when the data varies according to time of the year, for example, temperature. Serial correlation is the dependence among data points, especially when they are close in time.\n",
    "\n",
    "Let's define expectation, variance and covariance. The expected value or expectation E(x) of a random variable x is its mean value in the population. We denote $$ E(x) = \\mu $$. The variance is a measure of how spread the variable is, it is the expectation of the deviations of the variable from the mean: $$ \\sigma^2(x) = E{[x-\\mu]}^2 $$. The standard deviation is the square root of the variance of x $$ \\sigma(x) $$. \n",
    "\n",
    "# ARMA\n",
    "\n",
    "ARMA stands for autoregressive moving average. It is a model to understand and predict a time series. The AR part is to regress the variable $$ X_t $$ on its own lagged (past) values. The MA is to model the error term as a linear combination of error terms at various times. The model is a stochastic process with two polynomials, p is the order of AR and q is the order of MA.\n",
    "\n",
    "## AR\n",
    "\n",
    "Model for AR(p): $$ X_t = \\sum_{i=1}^p \\phi_i X_{t-i} + \\epsilon_t $$ with $$ \\phi_1,...\\phi_p $$ are parameters and the random variable $$ \\epsilon_t $$ is white noise.\n",
    "\n",
    "## MA\n",
    "\n",
    "Model for MA(q): $$ X_t = \\mu + \\epsilon_t + \\sum_{i=1}^q \\theta_i \\epsilon_{t-i} $$ with $$ \\theta_1,...\\theta_q $$ are parameters, $$ \\mu = 0 $$ is the expectation of $$ X_t $$, and $$ \\epsilon_t, \\epsilon_{t-1}.. $$ are white noise.\n",
    "\n",
    "## ARMA\n",
    "\n",
    "The combined model ARMA(p,q) will have p autoregressive terms and q moving average terms.\n",
    "\n",
    "$$ X_t = \\epsilon_t + \\sum_{i=1}^p \\phi_i X_{t-i} + \\sum_{i=1}^q \\theta_i \\epsilon_{t-1} $$"
   ]
  },
  {
   "cell_type": "code",
   "execution_count": null,
   "id": "dc44fb9e",
   "metadata": {},
   "outputs": [],
   "source": []
  }
 ],
 "metadata": {
  "kernelspec": {
   "display_name": "Python 3 (ipykernel)",
   "language": "python",
   "name": "python3"
  },
  "language_info": {
   "codemirror_mode": {
    "name": "ipython",
    "version": 3
   },
   "file_extension": ".py",
   "mimetype": "text/x-python",
   "name": "python",
   "nbconvert_exporter": "python",
   "pygments_lexer": "ipython3",
   "version": "3.9.13"
  }
 },
 "nbformat": 4,
 "nbformat_minor": 5
}
