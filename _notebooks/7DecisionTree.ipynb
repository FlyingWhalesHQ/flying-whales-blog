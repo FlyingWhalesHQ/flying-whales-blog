{
 "cells": [
  {
   "attachments": {},
   "cell_type": "markdown",
   "id": "e5ab79ab",
   "metadata": {},
   "source": [
    "---\n",
    "layout: post\n",
    "title:  \"Decision Tree\"\n",
    "date:   2023-03-06 8:14:54 +0700\n",
    "categories: jekyll update\n",
    "---\n",
    "\n",
    "# TOC\n",
    "- [Definition](#define)\n",
    "- [ID3 vs CART](#algo)\n",
    "- [Entropy vs Gini vs MSE](#loss)\n",
    "- [Code example](#code)\n",
    "\n",
    "# Definition <a name=\"define\"></a>\n",
    "Decision tree is a white box model, in contrast to a black box model such as neural net. It is so because it is pretty straightforward and simple. In decision tree, there is a sequence of decisions to make, towards an end goal. For example, the end goal is that we want to know whether a person would be accepted into a school. We would study the problem and make questions: whether they have a technical educational background, do they like the school, what was their parents grade when they were at that school,etc. All the binary choice and multiple choice questions. And it also doesn't have to be just for classification question, it can predict value too, by averaging similar training instance. It is a tolerating model.\n",
    "\n",
    "\n",
    "\n",
    "Since we are still in machine learning, this model has an algorithm and a loss function to optimize over, too. In the following sections we would get to know the algorithms and then the loss functions.\n",
    "\n",
    "# ID3 vs CART <a name=\"algo\"></a>\n",
    "\n",
    "\n",
    "# Entropy vs Gini vs MSE <a name=\"loss\"></a>\n",
    "\n",
    "\n",
    "# Code example <a name=\"code\"></a>\n",
    "\n",
    "\n",
    "\n"
   ]
  }
 ],
 "metadata": {
  "kernelspec": {
   "display_name": "Python 3 (ipykernel)",
   "language": "python",
   "name": "python3"
  },
  "language_info": {
   "codemirror_mode": {
    "name": "ipython",
    "version": 3
   },
   "file_extension": ".py",
   "mimetype": "text/x-python",
   "name": "python",
   "nbconvert_exporter": "python",
   "pygments_lexer": "ipython3",
   "version": "3.9.13"
  }
 },
 "nbformat": 4,
 "nbformat_minor": 5
}
