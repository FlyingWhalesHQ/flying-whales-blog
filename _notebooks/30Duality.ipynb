{
 "cells": [
  {
   "cell_type": "markdown",
   "id": "c2accbdc",
   "metadata": {},
   "source": [
    "---\n",
    "layout: post\n",
    "title:  \"Duality\"\n",
    "date:   2023-04-27 10:14:54 +0700\n",
    "categories: Mathematics\n",
    "---\n",
    "\n",
    "# Introduction\n",
    "\n",
    "In optimization, duality refers to a pair of closely related problems, known as the primal problem and the dual problem. The primal problem is the original optimization problem that one wants to solve, while the dual problem is a different optimization problem that is derived from the primal problem.\n",
    "\n",
    "The concept of duality is important in convex optimization because it provides useful insights into the structure of optimization problems and allows for the development of efficient algorithms for solving them. Specifically, the duality theorem states that under certain conditions, the optimal value of the primal problem is equal to the optimal value of the dual problem. This provides a way to check the optimality of a solution obtained from one problem by verifying its optimality in the other problem. Duality also allows for the development of optimization algorithms that solve the dual problem rather than the primal problem. This can be advantageous in certain situations, such as when the dual problem is easier to solve or has a simpler structure.\n",
    "\n",
    "# The Lagrangian\n",
    "Let's start the with the standard form of the optimization problem:\n",
    "\n",
    "minimize $$ f_0(x) $$, subject to $$ f_i(x) \\leq 0, i=1..m, h_i(x) = 1..p, x \\in R^n $$. The domain D is intersection of all domains, not empty and the optimal value is $$ p^* $$. The main idea of Lagrangian duality is to augment the constraints into the object functions weightedly. As follows:\n",
    "\n",
    "$$ L: R^n x R^m x R^p \\to R : L(x, \\lambda, \\nu) = f_0(x) + \\sum_{i=1}^m \\lambda_i f_i(x) + \\sum_{i=1}^p \\nu_i h_i (x) $$.\n",
    "\n",
    "The domain $$ L = D x R^m x R^p $$. $$ \\lambda_i, \\nu_i $$ are called the Lagrange multipliers. The problem becomes the Lagrangian dual function: $$ g: R^m x R^p \\to R $$ so that we find the minimum value of the Lagrangian over x: for $$ \\lambda \\in R^m, \\nu in R^p $$:\n",
    "\n",
    "$$ g(\\lambda, \\nu) = inf_{x \\in D} L(x, \\lambda, \\nu) = inf_{x \\in D} (f_0(x) + \\sum_{i=1}^m \\lambda_i f_i(x) + \\sum_{i=1}^p \\nu_i h_i(x))$$.\n",
    "\n",
    "The dual function will give us the lower bounds of the optimal value $$ p^* $$ of the problem. For any $$ \\lambda \\geq 0 $$ and $$ \\nu: g(\\lambda, \\nu) \\leq p^* $$. We can prove it as follows. Suppose x is a feasible point: $$ f_i(x) \\leq 0, h_i(x) = 0, \\lambda \\geq 0 $$. So $$ \\sum_{i=1}^m \\lambda_i f_i(x) + \\sum_{i=1}^p \\nu_i h_i(x) \\leq 0 $$. Therefore the Lagrangian $$ L(x, \\lambda, \\nu) = f_0(x) + \\sum_{i=1}^m \\lambda_i f_i(x) + \\sum_{i=1}^p \\nu_i h_i(x) \\leq f_o(x) $$. This makes $$ g(\\lambda, \\nu) = inf_{x \\in D} L(x, \\lambda, \\nu) \\leq L(x, \\lambda, \\nu) \\leq f_0(x) $$. Since $$ g(\\lambda, \\nu) \\leq f_0(x) $$ for all feasible x, it is followed that $$ g(\\lambda, \\nu) \\leq p^* $$."
   ]
  },
  {
   "cell_type": "code",
   "execution_count": null,
   "id": "bd6a0a74",
   "metadata": {},
   "outputs": [],
   "source": []
  }
 ],
 "metadata": {
  "kernelspec": {
   "display_name": "Python 3 (ipykernel)",
   "language": "python",
   "name": "python3"
  },
  "language_info": {
   "codemirror_mode": {
    "name": "ipython",
    "version": 3
   },
   "file_extension": ".py",
   "mimetype": "text/x-python",
   "name": "python",
   "nbconvert_exporter": "python",
   "pygments_lexer": "ipython3",
   "version": "3.9.13"
  }
 },
 "nbformat": 4,
 "nbformat_minor": 5
}
