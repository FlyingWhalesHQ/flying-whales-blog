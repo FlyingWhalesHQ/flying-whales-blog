{
 "cells": [
  {
   "cell_type": "markdown",
   "id": "bab57eb1",
   "metadata": {},
   "source": [
    "---\n",
    "layout: post\n",
    "title:  \"Convexity\"\n",
    "date:   2023-04-25 10:14:54 +0700\n",
    "categories: Mathematics\n",
    "---\n",
    "\n",
    "# Introduction\n",
    "\n",
    "A set C is convex if you connect any two points in that set $$ x_1, x_2 \\in C $$, the line connecting them would lie in the set completely, too. Mathematically, $$ \\forall 0 \\leq \\theta \\leq 1, x_{\\theta} = \\theta x_1 + (1 - \\theta) x_2 \\in C $$.\n",
    "\n",
    "Examples of convex set are hyperplanes and halfspaces. A hyperplane in n-dimensional space is the set of points satisfying the equation: $$ a_1 x_1 + a_2 x_2 + ... + a_n x_n = a^T x = b $$ with $$ b, a_i (i = 1,2,..,n) \\in R $$. For $$ a^T x_1 = a^T x_2 = b $$ and $$ 0 \\leq \\theta \\leq 1: a^T x_{\\theta} = a^T (\\theta x_1 + (1 - \\theta) x_2)) = \\theta b + (1 - \\theta) b = b $$."
   ]
  },
  {
   "cell_type": "code",
   "execution_count": null,
   "id": "7ac8f4cc",
   "metadata": {},
   "outputs": [],
   "source": []
  }
 ],
 "metadata": {
  "kernelspec": {
   "display_name": "Python 3 (ipykernel)",
   "language": "python",
   "name": "python3"
  },
  "language_info": {
   "codemirror_mode": {
    "name": "ipython",
    "version": 3
   },
   "file_extension": ".py",
   "mimetype": "text/x-python",
   "name": "python",
   "nbconvert_exporter": "python",
   "pygments_lexer": "ipython3",
   "version": "3.9.13"
  }
 },
 "nbformat": 4,
 "nbformat_minor": 5
}
