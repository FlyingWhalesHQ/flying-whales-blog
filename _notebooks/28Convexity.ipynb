{
 "cells": [
  {
   "cell_type": "markdown",
   "id": "6f7b3ac6",
   "metadata": {},
   "source": [
    "---\n",
    "layout: post\n",
    "title:  \"Convexity\"\n",
    "date:   2023-04-25 10:14:54 +0700\n",
    "categories: Mathematics\n",
    "---\n",
    "\n",
    "# Introduction\n",
    "\n",
    "A set C is convex if you connect any two points in that set $$ x_1, x_2 \\in C $$, the line connecting them would lie in the set completely, too. Mathematically, $$ \\forall 0 \\leq \\theta \\leq 1, x_{\\theta} = \\theta x_1 + (1 - \\theta) x_2 \\in C $$.\n",
    "\n",
    "Examples of convex set are hyperplanes and halfspaces. A hyperplane in n-dimensional space is the set of points satisfying the equation: $$ a_1 x_1 + a_2 x_2 + ... + a_n x_n = a^T x = b $$ with $$ b, a_i (i = 1,2,..,n) \\in R $$. For $$ a^T x_1 = a^T x_2 = b $$ and $$ 0 \\leq \\theta \\leq 1: a^T x_{\\theta} = a^T (\\theta x_1 + (1 - \\theta) x_2)) = \\theta b + (1 - \\theta) b = b $$. A halfspace in n-dimensional space is the set of points that satisfies the following inequality: $$ a_1 x_1 + a_2 x_2 + ... + a_n x_n = a^T x \\leq b $$ with $$ b, a_i (i = 1,2,..n) \\in R $$. \n",
    "\n",
    "Another example is a norm ball. An Euclidean ball is the set of points that satisfies: $$ B(x_c, r) = \\{x \\mid \\mid\\mid x - x_c \\mid\\mid_2 \\leq r \\} $$. To prove that this is a convex set, we let any $$ x_1, x_2 \\in B(x_c, r) $$ and $$ 0 \\leq \\theta \\leq 1 $$:\n",
    "\n",
    "$$ \\mid\\mid x_{\\theta} - x_c \\mid\\mid_2 = \\mid\\mid \\theta(x_1 - x_c) + (1-\\theta(x_2 - x_c) \\mid\\mid_2 \\leq \\theta \\mid\\mid x_1 - x_c \\mid\\mid_2 + (1-\\theta) \\mid\\mid x_2 - x_c \\mid\\mid_2 \\leq \\theta r + (1-\\theta)r = r$$. So $$ x_{\\theta} \\in B(x_c, r) $$.\n",
    "\n",
    "Ellipsoids are convex sets, too. \n",
    "\n",
    "The thing is, if we use norm p ($$ p \\in R, p >= 1 $$): $$ \\mid\\mid x\\mid\\mid_p = (\\mid x_1 \\mid^p + ... + \\mid x_n \\mid^p)^{1/p} $$, we end up with convex sets too. Mahalanobis distance is a norm too. Mahalanobis norm of a vector $$ x \\in R^n $$ is: $$ \\mid\\mid x \\mid\\mid_A = \\sqrt{x^T A^{-1} x} $$, with A being a matrix such that $$ x^T A^{-1} x \\geq 0, \\forall x \\in R^n $$.\n",
    "\n",
    "The intersection of halfspaces and hyperplanes are also convex. The name is a polyhedra. "
   ]
  },
  {
   "cell_type": "code",
   "execution_count": null,
   "id": "aa88833e",
   "metadata": {},
   "outputs": [],
   "source": []
  }
 ],
 "metadata": {
  "kernelspec": {
   "display_name": "Python 3 (ipykernel)",
   "language": "python",
   "name": "python3"
  },
  "language_info": {
   "codemirror_mode": {
    "name": "ipython",
    "version": 3
   },
   "file_extension": ".py",
   "mimetype": "text/x-python",
   "name": "python",
   "nbconvert_exporter": "python",
   "pygments_lexer": "ipython3",
   "version": "3.9.13"
  }
 },
 "nbformat": 4,
 "nbformat_minor": 5
}
