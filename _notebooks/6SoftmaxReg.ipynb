{
 "cells": [
  {
   "cell_type": "markdown",
   "id": "f13ff439",
   "metadata": {},
   "source": [
    "---\n",
    "layout: post\n",
    "title:  \"Softmax Regression\"\n",
    "date:   2023-03-06 6:14:54 +0700\n",
    "categories: jekyll update\n",
    "---\n",
    "\n",
    "# TOC\n",
    "\n",
    "- [Definition](#define)\n",
    "- [Cross entropy](#cross)\n",
    "- [Another form](#form)\n",
    "- [Code example](#code)\n",
    "\n",
    "\n",
    "\n",
    "# Definition <a name=\"define\"></a>\n",
    "Remind us a bit about linear regression:\n",
    "\n",
    "$$ \\hat{y}=h_{\\theta}(x) = \\theta \\cdot x $$\n",
    "\n",
    "Where $$ h_{\\theta} $$ is the hypothesis function with parameter vector $$ \\theta $$ . $$ h_{\\theta} $$ would turn input x into output y. Now remember when we wrap that linear combination using the logistic function to have a new $$ h_{\\theta} $$. Also when we use the sign function in the perceptron. \n",
    "\n",
    "As you might have guessed, to have this new softmax function we are going to wrap the original linear combination inside a new and nonlinear function. One of the effect that we would like to have, i.e. that we didn’t have when we used the logistic regression and the perceptron, is that we would be able to use the new h to classify objects into more than two classes. In order to achieve this, we use this function called softmax (which is also called multinomial logistic):\n",
    "\n",
    "$$ p_{i} = p(y=i \\mid x; \\theta) = \\frac{e^{z_{i}}}{\\sum_{j=1}^{K}e^{z_{j}}} \\quad  with \\quad z = \\theta^{\\top}x $$\n",
    "\n",
    "This regression still make sure that the prediction maps to the highest value of y, only that it gives probability (a soft-max classification) instead of a hard classification. Also, when z < 0, the transformation will still transform those negative values and would be able to output sensible positive predictions.\n",
    "\n",
    "# Cross entropy <a name=\"loss\"></a>\n",
    "\n",
    "In linear regression, when outputs are values that can be arbitrary, the distance between prediction and true value makes sense. With the softmax function, on the other hand, we output probability (which is between 0 and 1). To measure loss, i.e. the difference between the distribution of the prediction and the ground truth one, we use cross entropy. Here is the cross entropy between two distributions p and q:\n",
    "\n",
    "$$ H(p,q) = - \\sum_{i=1}^{y} p_{i} log q_{i} $$\n",
    "\n",
    "Loss function for one single data point is:\n",
    "\n",
    "$$ Loss(\\theta, x_{i}, y_{i}) = - \\sum_{j=1}^{K} y_{ji} log (h_{ji}(x)) $$\n",
    "\n",
    "The total loss function is simply the total of all those loss functions in the dataset, with $$ h_{ji}(x) =  \\frac{exp(\\theta_{j}^{\\top}x_i)}{\\sum_{k=1}^{K}exp(\\theta_{k}^{\\top}x_{i})} $$ by definition:\n",
    "\n",
    "$$ Loss = - \\sum_{i=1}^{N} \\sum_{j=1}^{K} y_{ji} log ( \\frac{exp(\\theta_{j}^{\\top}x_i)}{\\sum_{k=1}^{K}exp(\\theta_{k}^{\\top}x_{i})} ) $$\n",
    "\n",
    "The update rule is:\n",
    "\n",
    "$$ \\theta \\leftarrow \\theta + \\alpha x_{i} (y_{i} - h_{\\theta}(x)) $$\n",
    "\n",
    "You can see that, in the update rule, there is the distance between the real y and the transformed linear combination through softmax. This is in line with our loss function and update rule so far: at every step of the way we look at the different of what we predict compare to what turns out to be true. This also highlights the difference of machine learning: to do well on unforeseen data.\n",
    "\n",
    "# Another form <a name=\"another\"></a>\n",
    "\n",
    "You can also see the following form to be the cost function. For one data point:\n",
    "\n",
    "$$ Loss(\\theta, x_{i}, y_{i}) = - \\sum_{j=1}^{k}(1\\{y^{i}=k\\}.log \\frac{exp(\\theta_{k}^{\\top}x_i)}{\\sum_{j=1}^{k}exp(\\theta_{j}^{\\top}x_{i})}) $$\n",
    "\n",
    "The indicator function 1{..} means that 1{true statement} = 1 and 1{false statement} = 0. The total cross entropy is the sum of all smaller cross entropies in the dataset:\n",
    "\n",
    "$$ Loss = -\\sum_{i=1}^{m} \\sum_{j=1}^{k} (1\\{y^{i}=k\\} log \\frac{exp(\\theta_{x_{i}}^{\\top}x_i)}{\\sum_{k=1}^{K}exp(\\theta_{k}^{\\top}x_{i})} ) $$\n",
    "\n",
    "Taking derivaties, the gradient is:\n",
    "\n",
    "$$ \\nabla_{\\theta} L(\\theta) = - \\sum_{i=1}^{m} [ x^{i} (1\\{y^{i} = k\\} - p(y^{(i)} = k \\mid x^{i}; \\theta)) ] $$\n",
    "\n",
    "with $$ p(y^{(i)} = k \\mid x^{i}; \\theta) = \\frac{exp(\\theta_{j}^{\\top}x_i)}{\\sum_{k=1}^{K}exp(\\theta_{k}^{\\top}x_{i})} $$\n",
    "\n",
    "The update rule will be:\n",
    "\n",
    "$$ \\theta_{k} \\leftarrow \\theta_{k} + \\alpha \\frac{1}{m} \\sum_{i=1}^{m} x^{i} (1 \\{y = k\\} - \\frac{exp(\\theta^{\\top}_{k} x^{i})}{\\sum_{j=1}^{k}exp(\\theta_{j}^{\\top} x^{i})}) $$\n",
    "\n",
    "The nice thing about this update rule is that when it meets a correct prediction (1{y=k} = 1), it takes into account the error margin of that prediction by letting 1 multiply with (1 - p). When it meets an incorrect prediction (1{y=k} = 0), it takes into account all the error margins (p, since p should be 0 in incorrect prediction cases). In some sense, we can say that this algorithm looks at the mistake and make accordingly adjustment. In other words, it learns from its own mistake. \n",
    "\n",
    "And, remember that softmax function is a generalization of logistic function.\n",
    "\n",
    "# Code example <a name=\"code\"></a>\n",
    "\n",
    "The following example uses the iris dataset (you can try also the MNIST dataset with this same recipe, accuracy around 80%). First we load the data and split it. For this data, we all have the length of the flower's part in cm and there is no missing value or outliers, hence we can jump right to the model training part. Remember that sklearn uses the same regressor (LogisticRegression) for softmax regression but you have to set multi_class='multinomial' yourself. After prediction, we plot the prediction and the ground truth together, there is only one misclassified point (yellow in class 1) and the accuracy is more than 96%. Congrats!"
   ]
  },
  {
   "cell_type": "code",
   "execution_count": 2,
   "id": "c66038c3",
   "metadata": {
    "vscode": {
     "languageId": "plaintext"
    }
   },
   "outputs": [
    {
     "name": "stdout",
     "output_type": "stream",
     "text": [
      "Requirement already satisfied: keras in /Users/nguyenlinhchi/opt/anaconda3/lib/python3.9/site-packages (2.11.0)\r\n"
     ]
    }
   ],
   "source": [
    "!pip install keras "
   ]
  },
  {
   "cell_type": "code",
   "execution_count": 1,
   "id": "89e0f8f7",
   "metadata": {},
   "outputs": [],
   "source": [
    "import matplotlib.pyplot as plt\n",
    "from sklearn.linear_model import LogisticRegression\n",
    "from sklearn.model_selection import train_test_split\n",
    "from sklearn.datasets import load_iris"
   ]
  },
  {
   "cell_type": "code",
   "execution_count": 2,
   "id": "f74a593e",
   "metadata": {},
   "outputs": [],
   "source": [
    "iris = load_iris()\n",
    "X = iris['data']\n",
    "y = iris['target']\n",
    "X_train, X_test, Y_train, Y_test = train_test_split(X, y, test_size=0.2, random_state=2)"
   ]
  },
  {
   "cell_type": "code",
   "execution_count": 3,
   "id": "0000cbe9",
   "metadata": {},
   "outputs": [
    {
     "data": {
      "text/plain": [
       "LogisticRegression(max_iter=1000, multi_class='multinomial')"
      ]
     },
     "execution_count": 3,
     "metadata": {},
     "output_type": "execute_result"
    }
   ],
   "source": [
    "softReg = LogisticRegression(multi_class = 'multinomial', solver = 'lbfgs',max_iter=1000)\n",
    "softReg.fit(X_train,Y_train)"
   ]
  },
  {
   "cell_type": "code",
   "execution_count": 4,
   "id": "36fc4942",
   "metadata": {},
   "outputs": [],
   "source": [
    "Y_pred=softReg.predict(X_test)"
   ]
  },
  {
   "cell_type": "code",
   "execution_count": 5,
   "id": "11af6b46",
   "metadata": {},
   "outputs": [
    {
     "data": {
      "text/plain": [
       "<matplotlib.collections.PathCollection at 0x7fc041cde1f0>"
      ]
     },
     "execution_count": 5,
     "metadata": {},
     "output_type": "execute_result"
    },
    {
     "data": {
      "image/png": "[encoded data removed]",
      "text/plain": [
       "<Figure size 640x480 with 1 Axes>"
      ]
     },
     "metadata": {},
     "output_type": "display_data"
    }
   ],
   "source": [
    "plt.scatter(X_test[:,0], Y_test, c=Y_pred)"
   ]
  },
  {
   "cell_type": "markdown",
   "id": "80602bda",
   "metadata": {},
   "source": [
    "![6SoftmaxReg_6_1](https://user-images.githubusercontent.com/7457301/223476900-5d9adc31-f6a5-42d4-8ddf-2b0054581b95.png)\n"
   ]
  },
  {
   "cell_type": "code",
   "execution_count": null,
   "id": "d06c256e",
   "metadata": {},
   "outputs": [],
   "source": []
  }
 ],
 "metadata": {
  "kernelspec": {
   "display_name": "Python 3 (ipykernel)",
   "language": "python",
   "name": "python3"
  },
  "language_info": {
   "codemirror_mode": {
    "name": "ipython",
    "version": 3
   },
   "file_extension": ".py",
   "mimetype": "text/x-python",
   "name": "python",
   "nbconvert_exporter": "python",
   "pygments_lexer": "ipython3",
   "version": "3.9.13"
  }
 },
 "nbformat": 4,
 "nbformat_minor": 5
}
