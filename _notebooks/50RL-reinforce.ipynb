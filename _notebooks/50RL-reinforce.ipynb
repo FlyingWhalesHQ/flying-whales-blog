{
 "cells": [
  {
   "cell_type": "markdown",
   "id": "bd3aecf4",
   "metadata": {},
   "source": [
    "---\n",
    "layout: post\n",
    "title:  \"RL: Policy gradient and REINFORCE\"\n",
    "date:   2023-06-19 10:14:54 +0700\n",
    "categories: DeepLearning\n",
    "---\n",
    "\n",
    "# Introduction"
   ]
  }
 ],
 "metadata": {
  "kernelspec": {
   "display_name": "Python 3 (ipykernel)",
   "language": "python",
   "name": "python3"
  },
  "language_info": {
   "codemirror_mode": {
    "name": "ipython",
    "version": 3
   },
   "file_extension": ".py",
   "mimetype": "text/x-python",
   "name": "python",
   "nbconvert_exporter": "python",
   "pygments_lexer": "ipython3",
   "version": "3.9.13"
  }
 },
 "nbformat": 4,
 "nbformat_minor": 5
}
